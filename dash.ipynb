{
 "cells": [
  {
   "cell_type": "code",
   "execution_count": 67,
   "metadata": {},
   "outputs": [
    {
     "name": "stderr",
     "output_type": "stream",
     "text": [
      "INFO:src.db:Database loaded from data/databases/database__2025-03-21__17:12:35.196730.pkl.\n"
     ]
    },
    {
     "data": {
      "text/html": [
       "\n",
       "        <iframe\n",
       "            width=\"100%\"\n",
       "            height=\"650\"\n",
       "            src=\"http://127.0.0.1:8050/\"\n",
       "            frameborder=\"0\"\n",
       "            allowfullscreen\n",
       "            \n",
       "        ></iframe>\n",
       "        "
      ],
      "text/plain": [
       "<IPython.lib.display.IFrame at 0x7fc969ea44c0>"
      ]
     },
     "metadata": {},
     "output_type": "display_data"
    }
   ],
   "source": [
    "from dash import dcc, Dash, dash_table, html\n",
    "from src.db import Database\n",
    "from dash.dependencies import Input\n",
    "from dash.dependencies import Output\n",
    "from itertools import chain\n",
    "import pandas as pd\n",
    "\n",
    "# Load database\n",
    "database = Database()\n",
    "database.load(\"data/databases/database__2025-03-21__17:12:35.196730.pkl\")\n",
    "\n",
    "# Parse tags\n",
    "# db_exploded = database.db.explode(\"tag\")\n",
    "# db_exploded = db_exploded.rename(columns={\"doi\": \"value\", \"tag\": \"label\"})[[\"label\", \"value\"]]\n",
    "# tags = db_exploded.to_dict(orient=\"records\")\n",
    "\n",
    "# Pull out unique tags\n",
    "# tags = database.db[\"tag\"].unique().tolist()\n",
    "\n",
    "# Create tag-DOI mapping\n",
    "database.db[\"tag\"] = database.db[\"tag\"].apply(lambda lst: [s.lower() for s in lst])\n",
    "db_exploded = database.db.explode(\"tag\")\n",
    "mapping = db_exploded.groupby(\"tag\")[\"doi\"].apply(list).to_dict()\n",
    "tags = list(mapping.keys())\n",
    "\n",
    "# tags = database.db[[\"doi\", \"tag\"]]\n",
    "database = database.db.drop('tag', axis=1)\n",
    "database.columns = [\"Title\", \"Authors\", \"Journal\", \"Year\", \"DOI\"]\n",
    "\n",
    "app = Dash()\n",
    "\n",
    "app.layout = html.Div(\n",
    "    children=[\n",
    "        \n",
    "        # Heading\n",
    "        html.H1(children='A tagged database of active inference, predictive processing, and free energy principle papers'),\n",
    "        \n",
    "        # Tag filter menu\n",
    "        dcc.Dropdown(\n",
    "            id=\"filter_dropdown\",\n",
    "            # options=[{\"label\": tag, \"value\": tag} for tag in tags],\n",
    "            options=tags,\n",
    "            placeholder=\"Select a tag\",\n",
    "            multi=True,\n",
    "            value=tags,\n",
    "        ),\n",
    "        \n",
    "        # Download button\n",
    "        \n",
    "        # Main table\n",
    "        dash_table.DataTable(\n",
    "            id=\"database\",\n",
    "            columns=[\n",
    "                {\"name\": i, \"id\": i} for i in database.columns],\n",
    "            data=database.to_dict(\"records\"),\n",
    "            row_deletable=True,\n",
    "            filter_action=\"native\",\n",
    "            sort_mode=\"multi\",\n",
    "            sort_action=\"native\",\n",
    "            style_header = {\n",
    "                'text_align': 'left',\n",
    "                'backgroundColor' : 'rgb(30, 144, 255)'\n",
    "            },\n",
    "            style_data={\n",
    "                'whiteSpace': 'normal',\n",
    "                'height': 'auto',\n",
    "                'text_align': 'left'},\n",
    "            style_data_conditional=[\n",
    "                {'if': {'row_index': 'odd'},\n",
    "                 'backgroundColor': 'rgb(240, 240, 240)'}\n",
    "            ],\n",
    "            style_cell_conditional=[\n",
    "                {'if': {'column_id': 'Title'},\n",
    "                 'width': '350px'},\n",
    "                {'if': {'column_id': 'Authors'},\n",
    "                 'width': '300px'},\n",
    "                {'if': {'column_id': 'Year'},\n",
    "                 'width': '100px'}],\n",
    "            style_as_list_view=True\n",
    "        )\n",
    "    ]\n",
    ")\n",
    "\n",
    "@app.callback(\n",
    "    Output(\"database\", \"data\"), \n",
    "    Input(\"filter_dropdown\", \"value\")\n",
    ")\n",
    "def display_table(tags):\n",
    "    doi_list = [mapping[tag] for tag in tags]\n",
    "    doi_list = list(chain.from_iterable(doi_list))\n",
    "    doi_list = list(set(doi_list))\n",
    "    \n",
    "    filtered = database[database[\"DOI\"].isin(doi_list)]\n",
    "    return filtered.to_dict(\"records\")\n",
    "\n",
    "app.run(debug=True)"
   ]
  }
 ],
 "metadata": {
  "kernelspec": {
   "display_name": "base",
   "language": "python",
   "name": "python3"
  },
  "language_info": {
   "codemirror_mode": {
    "name": "ipython",
    "version": 3
   },
   "file_extension": ".py",
   "mimetype": "text/x-python",
   "name": "python",
   "nbconvert_exporter": "python",
   "pygments_lexer": "ipython3",
   "version": "3.9.7"
  }
 },
 "nbformat": 4,
 "nbformat_minor": 2
}
