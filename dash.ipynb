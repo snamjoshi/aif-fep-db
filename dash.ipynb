{
 "cells": [
  {
   "cell_type": "code",
   "execution_count": 1,
   "metadata": {},
   "outputs": [],
   "source": [
    "from dash import dcc, Dash, dash_table, html\n",
    "from src.db import Database\n",
    "from dash.dependencies import Input, Output, State\n",
    "from itertools import chain\n",
    "import pandas as pd"
   ]
  },
  {
   "cell_type": "code",
   "execution_count": 2,
   "metadata": {},
   "outputs": [],
   "source": [
    "def load_database(db_path: str) -> pd.DataFrame:\n",
    "    \"\"\" Loads a serialized database from specified path to pickle file \"\"\"\n",
    "    database = Database()\n",
    "    database.load(db_path)\n",
    "    \n",
    "    return database\n",
    "\n",
    "def get_metadata(database: pd.DataFrame) -> dict:\n",
    "    \"\"\" Extracts metadata from database \"\"\"\n",
    "    metadata = {\n",
    "        \"creation_time\": database.creation_time,\n",
    "        \"tag_version\"  : database.tag_version\n",
    "    }\n",
    "    \n",
    "    return metadata\n",
    "\n",
    "def get_tags(database: pd.DataFrame) -> list:\n",
    "    \"\"\" Extracts unique tags from database \"\"\"\n",
    "    database.db[\"tag\"] = database.db[\"tag\"].apply(lambda lst: [s.lower() for s in lst])\n",
    "    db_exploded = database.db.explode(\"tag\")\n",
    "    mapping = db_exploded.groupby(\"tag\")[\"doi\"].apply(list).to_dict()\n",
    "    tags = list(mapping.keys())\n",
    "    \n",
    "    return mapping, tags\n",
    "\n",
    "def prepare_database(database: pd.DataFrame) -> pd.DataFrame:\n",
    "    \"\"\" Drop tag column for database and rename remaining columns \"\"\"\n",
    "    database = database.db.drop('tag', axis=1)\n",
    "    database.columns = [\"Title\", \"Authors\", \"Journal\", \"Year\", \"DOI\"]\n",
    "    \n",
    "    return database"
   ]
  },
  {
   "cell_type": "code",
   "execution_count": 3,
   "metadata": {},
   "outputs": [],
   "source": [
    "def create_layout(app, database: pd.DataFrame, metadata: dict, mapping: dict, tags: list):\n",
    "    \n",
    "    creation_time = metadata[\"creation_time\"]\n",
    "    tag_version = metadata[\"tag_version\"]\n",
    "\n",
    "    app.layout = html.Div([\n",
    "        \n",
    "        # Heading\n",
    "        html.H1(children='A tagged database of active inference, predictive processing, and free energy principle papers'),\n",
    "        \n",
    "        dcc.Tabs([\n",
    "            dcc.Tab(label=\"Database Table\", children=[\n",
    "            \n",
    "                # Store\n",
    "                dcc.Store(id=\"filtered_data_store\"),\n",
    "                \n",
    "                html.Br(),\n",
    "                \n",
    "                html.P(children=f\"Database creation time: {creation_time}\"),\n",
    "                html.P(children=f\"Tag version: {tag_version}\"),\n",
    "                \n",
    "                html.Br(),\n",
    "                \n",
    "                # Download button\n",
    "                html.Button(\"Download CSV\", id=\"btn_csv\"),\n",
    "                dcc.Download(id=\"download-dataframe-csv\"),\n",
    "                \n",
    "                # Tag filter menu\n",
    "                dcc.Dropdown(\n",
    "                    id=\"filter_dropdown\",\n",
    "                    # options=[{\"label\": tag, \"value\": tag} for tag in tags],\n",
    "                    options=tags,\n",
    "                    placeholder=\"Select a tag\",\n",
    "                    multi=True,\n",
    "                    value=tags,\n",
    "                ),\n",
    "                \n",
    "                # Main table\n",
    "                dash_table.DataTable(\n",
    "                    id=\"database\",\n",
    "                    columns=[\n",
    "                        {\"name\": i, \"id\": i} for i in database.columns],\n",
    "                    data=database.to_dict(\"records\"),\n",
    "                    row_deletable=True,\n",
    "                    filter_action=\"native\",\n",
    "                    sort_mode=\"multi\",\n",
    "                    sort_action=\"native\",\n",
    "                    style_header = {\n",
    "                        'text_align': 'left',\n",
    "                        'backgroundColor' : 'rgb(30, 144, 255)'\n",
    "                    },\n",
    "                    style_data={\n",
    "                        'whiteSpace': 'normal',\n",
    "                        'height': 'auto',\n",
    "                        'text_align': 'left'},\n",
    "                    style_data_conditional=[\n",
    "                        {'if': {'row_index': 'odd'},\n",
    "                        'backgroundColor': 'rgb(240, 240, 240)'}\n",
    "                    ],\n",
    "                    style_cell_conditional=[\n",
    "                        {'if': {'column_id': 'Title'},\n",
    "                        'width': '350px'},\n",
    "                        {'if': {'column_id': 'Authors'},\n",
    "                        'width': '300px'},\n",
    "                        {'if': {'column_id': 'Year'},\n",
    "                        'width': '100px'}],\n",
    "                    style_as_list_view=True\n",
    "                )\n",
    "            ]),\n",
    "            \n",
    "            dcc.Tab(label=\"Tag reference\", children=[\n",
    "                html.Div([\n",
    "                    html.H3(\"Tag reference\"),\n",
    "                ])]),\n",
    "            \n",
    "            dcc.Tab(label=\"About This App\", children=[\n",
    "                html.Div([\n",
    "                    html.H3(\"What is this?\"),\n",
    "                    html.P(\"This app lets you explore and download a curated list of papers related to active inference, predictive processing, and the free energy principle.\"),\n",
    "                    html.P(\"Use the dropdown to filter by tags, and download the current view using the button.\"),\n",
    "                    html.Br(),\n",
    "                    html.P(\"For feature requests and bug reporting please visit the Github page: https://github.com/snamjoshi/aif-fep-db\")\n",
    "                ])])\n",
    "        ])]\n",
    "    )\n",
    "\n",
    "    @app.callback(\n",
    "        Output(\"database\", \"data\"), \n",
    "        Output(\"filtered_data_store\", \"data\"),\n",
    "        Input(\"filter_dropdown\", \"value\")\n",
    "    )\n",
    "    def display_table(tags):\n",
    "        doi_list = [mapping[tag] for tag in tags]\n",
    "        doi_list = list(chain.from_iterable(doi_list))\n",
    "        doi_list = list(set(doi_list))\n",
    "        \n",
    "        filtered = database[database[\"DOI\"].isin(doi_list)]\n",
    "        filtered_dict = filtered.to_dict(\"records\")\n",
    "        return filtered_dict, filtered_dict\n",
    "\n",
    "    @app.callback(\n",
    "        Output(\"download-dataframe-csv\", \"data\"),\n",
    "        Input(\"btn_csv\", \"n_clicks\"),\n",
    "        State(\"filtered_data_store\", \"data\"),\n",
    "        prevent_initial_call=True,\n",
    "    )\n",
    "    def func(n_clicks, data):\n",
    "        df = pd.DataFrame(data)\n",
    "        return dcc.send_data_frame(df.to_csv, \"filtered_papers.csv\")\n",
    "    \n",
    "    return app"
   ]
  },
  {
   "cell_type": "code",
   "execution_count": 4,
   "metadata": {},
   "outputs": [
    {
     "name": "stderr",
     "output_type": "stream",
     "text": [
      "INFO:src.db:Database loaded from data/databases/database__2025-04-15__16:16:45.445422.pkl.\n"
     ]
    },
    {
     "data": {
      "text/html": [
       "\n",
       "        <iframe\n",
       "            width=\"100%\"\n",
       "            height=\"650\"\n",
       "            src=\"http://127.0.0.1:8050/\"\n",
       "            frameborder=\"0\"\n",
       "            allowfullscreen\n",
       "            \n",
       "        ></iframe>\n",
       "        "
      ],
      "text/plain": [
       "<IPython.lib.display.IFrame at 0x7f6f3dcfa550>"
      ]
     },
     "metadata": {},
     "output_type": "display_data"
    }
   ],
   "source": [
    "database = load_database(\"data/databases/database__2025-04-15__16:16:45.445422.pkl\")\n",
    "metadata = get_metadata(database=database)\n",
    "mapping, tags = get_tags(database=database)\n",
    "database = prepare_database(database=database)\n",
    "\n",
    "app = Dash()\n",
    "app = create_layout(app=app, database=database, metadata=metadata, mapping=mapping, tags=tags)\n",
    "app.run(debug=True)"
   ]
  },
  {
   "cell_type": "code",
   "execution_count": 8,
   "metadata": {},
   "outputs": [],
   "source": [
    "def get_tags(database: pd.DataFrame) -> list:\n",
    "    \"\"\" Extracts unique tags from database \"\"\"\n",
    "    database.db[\"tag\"] = database.db[\"tag\"].apply(lambda lst: [s.lower() for s in lst])\n",
    "    db_exploded = database.db.explode(\"tag\")\n",
    "    mapping = db_exploded.groupby(\"tag\")[\"doi\"].apply(list).to_dict()\n",
    "    tags = list(mapping.keys())\n",
    "    \n",
    "    return mapping, tags"
   ]
  },
  {
   "cell_type": "code",
   "execution_count": 13,
   "metadata": {},
   "outputs": [
    {
     "name": "stderr",
     "output_type": "stream",
     "text": [
      "INFO:src.db:Database loaded from data/databases/database__2025-04-15__16:45:04.248461.pkl.\n"
     ]
    }
   ],
   "source": [
    "database = load_database(\"data/databases/database__2025-04-15__16:45:04.248461.pkl\")\n",
    "metadata = get_metadata(database=database)"
   ]
  }
 ],
 "metadata": {
  "kernelspec": {
   "display_name": "base",
   "language": "python",
   "name": "python3"
  },
  "language_info": {
   "codemirror_mode": {
    "name": "ipython",
    "version": 3
   },
   "file_extension": ".py",
   "mimetype": "text/x-python",
   "name": "python",
   "nbconvert_exporter": "python",
   "pygments_lexer": "ipython3",
   "version": "3.9.7"
  }
 },
 "nbformat": 4,
 "nbformat_minor": 2
}
