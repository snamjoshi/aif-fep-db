{
 "cells": [
  {
   "cell_type": "markdown",
   "metadata": {},
   "source": [
    "## Example 2: Creating and adding tags to the database"
   ]
  },
  {
   "cell_type": "code",
   "execution_count": 1,
   "metadata": {},
   "outputs": [],
   "source": [
    "%load_ext autoreload\n",
    "%autoreload 2\n",
    "\n",
    "import os\n",
    "os.chdir(\"..\")\n",
    "\n",
    "from src.tags import Tags\n"
   ]
  },
  {
   "cell_type": "markdown",
   "metadata": {},
   "source": [
    "### 2.1 Creating and loading a tag file\n",
    "\n",
    "If you already have a tag file, you can just load it from a specific path. Here we will assume that no tag file exists yet. We will create one first and then load it."
   ]
  },
  {
   "cell_type": "code",
   "execution_count": 2,
   "metadata": {},
   "outputs": [
    {
     "name": "stderr",
     "output_type": "stream",
     "text": [
      "INFO:src.tags:Empty tag YAML output to data/tag_files/example_tag_file.yaml.\n",
      "INFO:src.tags:YAML tag file successfully loaded from data/tag_files/example_tag_file.yaml.\n"
     ]
    }
   ],
   "source": [
    "# Initialize Tag class\n",
    "tags = Tags()\n",
    "\n",
    "# Create an empty tag file (make sure to give it the yaml extension)\n",
    "tags.create_empty_tag_file(\"data/tag_files/example_tag_file.yaml\")\n",
    "\n",
    "# Load the tag file\n",
    "tags.load(\"data/tag_files/example_tag_file.yaml\")"
   ]
  },
  {
   "cell_type": "markdown",
   "metadata": {},
   "source": [
    "Now let's view the current tag file."
   ]
  },
  {
   "cell_type": "code",
   "execution_count": 3,
   "metadata": {},
   "outputs": [
    {
     "data": {
      "text/plain": [
       "{'category': '', 'tag_list': [], 'tagged_papers': []}"
      ]
     },
     "execution_count": 3,
     "metadata": {},
     "output_type": "execute_result"
    }
   ],
   "source": [
    "# View the currently loaded tag file\n",
    "tags.tags"
   ]
  },
  {
   "cell_type": "markdown",
   "metadata": {},
   "source": [
    "Not very inspiring. This is an empty tag file - a dict with two elements, each containing a list. The `tag_list` key contains a list of possible tags one can add. The `tagged_papers` key will be a dict with a paper `id` and the `tag`s (from the tag list) that are associated with that id. This will be demonstrated below."
   ]
  },
  {
   "cell_type": "markdown",
   "metadata": {},
   "source": [
    "### 2.2 Populating the tag file\n",
    "\n",
    "One can manually update YAML tag file or use the helper methods part of the `Tag` class. Let's add some new tags to the tag list and view them."
   ]
  },
  {
   "cell_type": "code",
   "execution_count": 4,
   "metadata": {},
   "outputs": [],
   "source": [
    "from src.db import Database"
   ]
  },
  {
   "cell_type": "code",
   "execution_count": 5,
   "metadata": {},
   "outputs": [
    {
     "name": "stderr",
     "output_type": "stream",
     "text": [
      "INFO:src.db:Checking tables...\n",
      "INFO:src.db:Loading tables...\n",
      "INFO:src.db:Tables downloaded from PubMed on Thursday, Sept. 14, 2023.\n"
     ]
    }
   ],
   "source": [
    "tables = [\"active_inference\", \"bayesian_mechanics\"]\n",
    "database = Database()\n",
    "database.load(tables=tables)"
   ]
  },
  {
   "cell_type": "code",
   "execution_count": 6,
   "metadata": {},
   "outputs": [
    {
     "name": "stderr",
     "output_type": "stream",
     "text": [
      "INFO:src.tags:Set Bayesian mechanics as the tag category.\n",
      "INFO:src.tags:Added ['information geometry', 'Markov blankets'] to the tag list.\n"
     ]
    },
    {
     "name": "stdout",
     "output_type": "stream",
     "text": [
      "Current tags: \n",
      " ['information geometry', 'Markov blankets']\n"
     ]
    }
   ],
   "source": [
    "# Set the tag category and add new tags to the tag list\n",
    "tags.set_tag_list_category(\"Bayesian mechanics\")\n",
    "tags.add_to_tag_list([\"information geometry\", \"Markov blankets\"])\n",
    "\n",
    "# View the current tag list\n",
    "tags.view_tag_list()"
   ]
  },
  {
   "cell_type": "markdown",
   "metadata": {},
   "source": [
    "Now we can populate the `tagged_papers` key by associating tags with a paper id."
   ]
  },
  {
   "cell_type": "code",
   "execution_count": 7,
   "metadata": {},
   "outputs": [
    {
     "name": "stderr",
     "output_type": "stream",
     "text": [
      "INFO:src.tags:Added ['information geometry'] to 31865883.\n",
      "INFO:src.tags:Added ['Markov blankets'] to 35153603.\n"
     ]
    },
    {
     "data": {
      "text/plain": [
       "[{'id': 31865883, 'tag': ['information geometry']},\n",
       " {'id': 35153603, 'tag': ['Markov blankets']}]"
      ]
     },
     "execution_count": 7,
     "metadata": {},
     "output_type": "execute_result"
    }
   ],
   "source": [
    "# Associate a tag with a paper id\n",
    "tags.associate_tag_with_id(tag_id=31865883, tags=[\"information geometry\"], db=database)\n",
    "tags.associate_tag_with_id(tag_id=35153603, tags=[\"Markov blankets\"], db=database)\n",
    "tags.tagged_papers"
   ]
  },
  {
   "cell_type": "markdown",
   "metadata": {},
   "source": [
    "Now if we want to add more tags to an id we just run the same call again with the new tag."
   ]
  },
  {
   "cell_type": "code",
   "execution_count": 8,
   "metadata": {},
   "outputs": [
    {
     "name": "stderr",
     "output_type": "stream",
     "text": [
      "INFO:src.tags:Added ['thermodynamics', 'sparse coupling'] to 35153603.\n"
     ]
    },
    {
     "data": {
      "text/plain": [
       "[{'id': 31865883, 'tag': ['information geometry']},\n",
       " {'id': 35153603,\n",
       "  'tag': ['Markov blankets', 'thermodynamics', 'sparse coupling']}]"
      ]
     },
     "execution_count": 8,
     "metadata": {},
     "output_type": "execute_result"
    }
   ],
   "source": [
    "# Add additional tags\n",
    "tags.associate_tag_with_id(tag_id=35153603, tags=[\"thermodynamics\", \"sparse coupling\"], db=database)\n",
    "tags.tagged_papers"
   ]
  },
  {
   "cell_type": "markdown",
   "metadata": {},
   "source": [
    "## Adding tags interactively\n",
    "\n",
    "Adding papers one at a time using `associate_tag_with_id` can be tedious. Because I had to this for every untagged paper in the database, I created an interactive mode that helps you tag quicker. \n",
    "\n",
    "This was mostly built for my convenience since I had to look through a lot of papers."
   ]
  },
  {
   "cell_type": "code",
   "execution_count": 14,
   "metadata": {},
   "outputs": [
    {
     "name": "stderr",
     "output_type": "stream",
     "text": [
      "INFO:src.interactive:Currently 2/499 papers tagged.\n"
     ]
    },
    {
     "name": "stdout",
     "output_type": "stream",
     "text": [
      "[>-----------------------------------------------------------------------------------------------------]\n",
      "\n",
      "\n",
      "\n",
      "ID: 34968557\n",
      "Title: Active inference leads to Bayesian neurophysiology\n",
      "Authors: Isomura T.\n",
      "Year: 2022\n",
      "Current tags: no tags added\n"
     ]
    },
    {
     "name": "stderr",
     "output_type": "stream",
     "text": [
      "INFO:src.interactive:Currently 2/499 papers tagged.\n"
     ]
    },
    {
     "name": "stdout",
     "output_type": "stream",
     "text": [
      "You are at the first paper in the database. There are no previous papers.\n",
      "\n",
      "\n",
      "****************************************************************************************************\n",
      "[>-----------------------------------------------------------------------------------------------------]\n",
      "\n",
      "\n",
      "\n",
      "ID: 34968557\n",
      "Title: Active inference leads to Bayesian neurophysiology\n",
      "Authors: Isomura T.\n",
      "Year: 2022\n",
      "Current tags: no tags added\n"
     ]
    },
    {
     "name": "stderr",
     "output_type": "stream",
     "text": [
      "INFO:src.interactive:Currently 2/499 papers tagged.\n"
     ]
    },
    {
     "name": "stdout",
     "output_type": "stream",
     "text": [
      "You are at the first paper in the database. There are no previous papers.\n",
      "\n",
      "\n",
      "****************************************************************************************************\n",
      "[>-----------------------------------------------------------------------------------------------------]\n",
      "\n",
      "\n",
      "\n",
      "ID: 34968557\n",
      "Title: Active inference leads to Bayesian neurophysiology\n",
      "Authors: Isomura T.\n",
      "Year: 2022\n",
      "Current tags: no tags added\n"
     ]
    }
   ],
   "source": [
    "tags.add_tags_interactive(db=database, tags=tags)"
   ]
  },
  {
   "cell_type": "code",
   "execution_count": null,
   "metadata": {},
   "outputs": [],
   "source": []
  },
  {
   "cell_type": "code",
   "execution_count": null,
   "metadata": {},
   "outputs": [],
   "source": []
  },
  {
   "cell_type": "code",
   "execution_count": 33,
   "metadata": {},
   "outputs": [
    {
     "data": {
      "text/html": [
       "<div>\n",
       "<style scoped>\n",
       "    .dataframe tbody tr th:only-of-type {\n",
       "        vertical-align: middle;\n",
       "    }\n",
       "\n",
       "    .dataframe tbody tr th {\n",
       "        vertical-align: top;\n",
       "    }\n",
       "\n",
       "    .dataframe thead th {\n",
       "        text-align: right;\n",
       "    }\n",
       "</style>\n",
       "<table border=\"1\" class=\"dataframe\">\n",
       "  <thead>\n",
       "    <tr style=\"text-align: right;\">\n",
       "      <th></th>\n",
       "      <th>id</th>\n",
       "      <th>tag</th>\n",
       "    </tr>\n",
       "  </thead>\n",
       "  <tbody>\n",
       "    <tr>\n",
       "      <th>0</th>\n",
       "      <td>31865883</td>\n",
       "      <td>[information geometry]</td>\n",
       "    </tr>\n",
       "    <tr>\n",
       "      <th>1</th>\n",
       "      <td>35153603</td>\n",
       "      <td>[Markov blankets, thermodynamics, sparse coupl...</td>\n",
       "    </tr>\n",
       "  </tbody>\n",
       "</table>\n",
       "</div>"
      ],
      "text/plain": [
       "         id                                                tag\n",
       "0  31865883                             [information geometry]\n",
       "1  35153603  [Markov blankets, thermodynamics, sparse coupl..."
      ]
     },
     "execution_count": 33,
     "metadata": {},
     "output_type": "execute_result"
    }
   ],
   "source": [
    "import pandas as pd\n",
    "pd.DataFrame(tags.tagged_papers)"
   ]
  },
  {
   "cell_type": "code",
   "execution_count": 20,
   "metadata": {},
   "outputs": [
    {
     "data": {
      "text/plain": [
       "'=========='"
      ]
     },
     "execution_count": 20,
     "metadata": {},
     "output_type": "execute_result"
    }
   ],
   "source": []
  },
  {
   "cell_type": "code",
   "execution_count": 9,
   "metadata": {},
   "outputs": [
    {
     "data": {
      "text/plain": [
       "[{'id': 31865883, 'tag': ['information geometry']},\n",
       " {'id': 35153603,\n",
       "  'tag': ['Markov blankets', 'thermodynamics', 'sparse coupling']}]"
      ]
     },
     "execution_count": 9,
     "metadata": {},
     "output_type": "execute_result"
    }
   ],
   "source": [
    "tags.tagged_papers"
   ]
  },
  {
   "cell_type": "markdown",
   "metadata": {},
   "source": [
    "## Loading the tag file into the database"
   ]
  },
  {
   "cell_type": "code",
   "execution_count": null,
   "metadata": {},
   "outputs": [],
   "source": [
    "# Load tag file (move to other notebook)\n",
    "\n",
    "# Filter by tag"
   ]
  }
 ],
 "metadata": {
  "kernelspec": {
   "display_name": "Python 3.9.7 ('ds_env_1')",
   "language": "python",
   "name": "python3"
  },
  "language_info": {
   "codemirror_mode": {
    "name": "ipython",
    "version": 3
   },
   "file_extension": ".py",
   "mimetype": "text/x-python",
   "name": "python",
   "nbconvert_exporter": "python",
   "pygments_lexer": "ipython3",
   "version": "3.9.13"
  },
  "orig_nbformat": 4,
  "vscode": {
   "interpreter": {
    "hash": "4ef4f69045848ab5f7382a317095b63ca81fc7ad7df0c81f4d0d17d279082c45"
   }
  }
 },
 "nbformat": 4,
 "nbformat_minor": 2
}
