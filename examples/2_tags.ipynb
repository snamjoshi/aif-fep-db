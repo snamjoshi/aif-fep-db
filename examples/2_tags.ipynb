{
 "cells": [
  {
   "cell_type": "markdown",
   "metadata": {},
   "source": [
    "## Example 2: Creating and adding tags to the database"
   ]
  },
  {
   "cell_type": "code",
   "execution_count": 1,
   "metadata": {},
   "outputs": [],
   "source": [
    "%load_ext autoreload\n",
    "%autoreload 2\n",
    "\n",
    "import os\n",
    "os.chdir(\"..\")\n",
    "\n",
    "from src.tags import Tags\n"
   ]
  },
  {
   "cell_type": "markdown",
   "metadata": {},
   "source": [
    "### 2.1 Creating and loading a tag file\n",
    "\n",
    "If you already have a tag file, you can just load it from a specific path. Here we will assume that no tag file exists yet. We will create one first and then load it."
   ]
  },
  {
   "cell_type": "code",
   "execution_count": 7,
   "metadata": {},
   "outputs": [
    {
     "name": "stderr",
     "output_type": "stream",
     "text": [
      "INFO:src.tags:Empty tag YAML output to data/tag_files/example_tag_file.yaml.\n",
      "INFO:src.tags:YAML tag file successfully loaded from data/tag_files/example_tag_file.yaml.\n"
     ]
    }
   ],
   "source": [
    "# Initialize Tag class\n",
    "tags = Tags()\n",
    "\n",
    "# Create an empty tag file (make sure to give it the yaml extension)\n",
    "tags.create_empty_tag_file(\"data/tag_files/example_tag_file.yaml\")\n",
    "\n",
    "# Load the tag file\n",
    "tags.load(\"data/tag_files/example_tag_file.yaml\")"
   ]
  },
  {
   "cell_type": "markdown",
   "metadata": {},
   "source": [
    "Now let's view the current tag file."
   ]
  },
  {
   "cell_type": "code",
   "execution_count": 8,
   "metadata": {},
   "outputs": [
    {
     "data": {
      "text/plain": [
       "{'category': '', 'tag_list': [], 'tagged_papers': []}"
      ]
     },
     "execution_count": 8,
     "metadata": {},
     "output_type": "execute_result"
    }
   ],
   "source": [
    "# View the currently loaded tag file\n",
    "tags.tags"
   ]
  },
  {
   "cell_type": "markdown",
   "metadata": {},
   "source": [
    "Not very inspiring. This is an empty tag file - a dict with two elements, each containing a list. The `tag_list` key contains a list of possible tags one can add. The `tagged_papers` key will be a dict with a paper `id` and the `tag`s (from the tag list) that are associated with that id. This will be demonstrated below."
   ]
  },
  {
   "cell_type": "markdown",
   "metadata": {},
   "source": [
    "### 2.2 Populating the tag file\n",
    "\n",
    "One can manually update YAML tag file or use the helper methods part of the `Tag` class. Let's add some new tags to the tag list and view them."
   ]
  },
  {
   "cell_type": "code",
   "execution_count": 9,
   "metadata": {},
   "outputs": [
    {
     "name": "stderr",
     "output_type": "stream",
     "text": [
      "INFO:src.tags:Set Bayesian mechanics as the tag category.\n",
      "INFO:src.tags:Added ['information geometry', 'Markov blankets'] to the tag list.\n"
     ]
    },
    {
     "name": "stdout",
     "output_type": "stream",
     "text": [
      "Current tags: \n",
      " ['information geometry', 'Markov blankets']\n"
     ]
    }
   ],
   "source": [
    "# Set the tag category and add new tags to the tag list\n",
    "tags.set_tag_list_category(\"Bayesian mechanics\")\n",
    "tags.add_to_tag_list([\"information geometry\", \"Markov blankets\"])\n",
    "\n",
    "# View the current tag list\n",
    "tags.view_tag_list()"
   ]
  },
  {
   "cell_type": "markdown",
   "metadata": {},
   "source": [
    "Now we can populate the `tagged_papers` key by associating tags with a paper id."
   ]
  },
  {
   "cell_type": "code",
   "execution_count": null,
   "metadata": {},
   "outputs": [],
   "source": [
    "# Associate a tag with a paper id\n"
   ]
  },
  {
   "cell_type": "markdown",
   "metadata": {},
   "source": [
    "## Adding tags interactively\n",
    "\n",
    "Adding papers one at a time using `associate_tag_with_id` can be tedious. Because I had to this for every untagged paper in the database, I created an interactive mode that helps you tag quicker. \n",
    "\n",
    "This was mostly built for my convenience since I had to look through a lot of papers."
   ]
  },
  {
   "cell_type": "code",
   "execution_count": 14,
   "metadata": {},
   "outputs": [],
   "source": [
    "from src.db import Database"
   ]
  },
  {
   "cell_type": "code",
   "execution_count": 15,
   "metadata": {},
   "outputs": [
    {
     "name": "stderr",
     "output_type": "stream",
     "text": [
      "INFO:src.db:Checking tables...\n",
      "INFO:src.db:Loading tables...\n",
      "INFO:src.db:Tables downloaded from PubMed on Thursday, Sept. 14, 2023.\n"
     ]
    }
   ],
   "source": [
    "tables = [\"active_inference\", \"bayesian_mechanics\"]\n",
    "database = Database()\n",
    "database.load(tables=tables)"
   ]
  },
  {
   "cell_type": "code",
   "execution_count": 18,
   "metadata": {},
   "outputs": [],
   "source": [
    "tags.add_tags_interactive(db=database, tags=tags)"
   ]
  },
  {
   "cell_type": "code",
   "execution_count": 22,
   "metadata": {},
   "outputs": [
    {
     "data": {
      "text/plain": [
       "499"
      ]
     },
     "execution_count": 22,
     "metadata": {},
     "output_type": "execute_result"
    }
   ],
   "source": [
    "database.db.shape[0]"
   ]
  },
  {
   "cell_type": "code",
   "execution_count": null,
   "metadata": {},
   "outputs": [],
   "source": []
  },
  {
   "cell_type": "code",
   "execution_count": 25,
   "metadata": {},
   "outputs": [
    {
     "data": {
      "text/plain": [
       "[]"
      ]
     },
     "execution_count": 25,
     "metadata": {},
     "output_type": "execute_result"
    }
   ],
   "source": [
    "tags.tagged_papers"
   ]
  },
  {
   "cell_type": "markdown",
   "metadata": {},
   "source": [
    "## Loading the tag file into the database"
   ]
  },
  {
   "cell_type": "code",
   "execution_count": null,
   "metadata": {},
   "outputs": [],
   "source": [
    "# Load tag file (move to other notebook)\n",
    "\n",
    "# Filter by tag"
   ]
  }
 ],
 "metadata": {
  "kernelspec": {
   "display_name": "Python 3.9.7 ('ds_env_1')",
   "language": "python",
   "name": "python3"
  },
  "language_info": {
   "codemirror_mode": {
    "name": "ipython",
    "version": 3
   },
   "file_extension": ".py",
   "mimetype": "text/x-python",
   "name": "python",
   "nbconvert_exporter": "python",
   "pygments_lexer": "ipython3",
   "version": "3.9.13"
  },
  "orig_nbformat": 4,
  "vscode": {
   "interpreter": {
    "hash": "4ef4f69045848ab5f7382a317095b63ca81fc7ad7df0c81f4d0d17d279082c45"
   }
  }
 },
 "nbformat": 4,
 "nbformat_minor": 2
}
