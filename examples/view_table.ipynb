{
 "cells": [
  {
   "cell_type": "markdown",
   "metadata": {},
   "source": [
    "File for just viewing lines of the entire table."
   ]
  },
  {
   "cell_type": "code",
   "execution_count": 1,
   "metadata": {},
   "outputs": [],
   "source": [
    "import logging\n",
    "import numpy as np\n",
    "\n",
    "import os\n",
    "os.chdir(\"..\")\n",
    "\n",
    "import pandas as pd\n",
    "\n",
    "from src.db import Database\n",
    "from src.tags import Tags\n",
    "\n",
    "LOGGER = logging.getLogger(__name__)\n",
    "logging.basicConfig(level = logging.INFO)"
   ]
  },
  {
   "cell_type": "code",
   "execution_count": 2,
   "metadata": {},
   "outputs": [],
   "source": [
    "def reload_metadata(db, filter=True):\n",
    "    # Initialize Tag class\n",
    "    metadata = Tags()\n",
    "\n",
    "    # Load the tag file and turn into a dataframe\n",
    "    metadata.load(\"data/tag_files/tags.yaml\")\n",
    "    md = pd.DataFrame(metadata.tags[\"tagged_papers\"])\n",
    "    \n",
    "    # Merge with database\n",
    "    mddb = db.merge(md, on=\"id\", how=\"outer\")\n",
    "    \n",
    "    # List current progress out of total.\n",
    "    total_papers = mddb.shape[0]\n",
    "    tagged_papers = sum(~mddb[\"tag\"].isnull())\n",
    "    percent = np.round((tagged_papers/total_papers) * 100, 2)\n",
    "    \n",
    "    LOGGER.info(f\"Currently {tagged_papers}/{total_papers} ({percent}%) papers tagged.\")\n",
    "    \n",
    "    # Filter out already tagged papers\n",
    "    if filter:\n",
    "        mddb = mddb[mddb['tag'].isnull()]\n",
    "        \n",
    "    mddb = mddb.reset_index()\n",
    "        \n",
    "    return mddb\n",
    "\n",
    "def print_paper(mddb, idx=0):\n",
    "    row = mddb.loc[idx]\n",
    "    id = row[\"id\"]\n",
    "    title = row[\"title\"]\n",
    "    authors = row[\"authors\"]\n",
    "    publication_year = row[\"publication_year\"]\n",
    "    \n",
    "    LOGGER.info(f\"ID: {id} \\n\")\n",
    "    LOGGER.info(f\"Title: {title} \\n\")\n",
    "    LOGGER.info(f\"Authors: {authors} \\n\")\n",
    "    LOGGER.info(f\"Publication year: {publication_year} \\n\")"
   ]
  },
  {
   "cell_type": "markdown",
   "metadata": {},
   "source": [
    "## Load"
   ]
  },
  {
   "cell_type": "code",
   "execution_count": 3,
   "metadata": {},
   "outputs": [
    {
     "name": "stderr",
     "output_type": "stream",
     "text": [
      "INFO:src.db:Checking tables...\n",
      "INFO:src.db:Loading tables...\n",
      "INFO:src.db:Tables downloaded from PubMed on Thursday, Sept. 14, 2023.\n",
      "INFO:src.tags:YAML tag file successfully loaded from data/tag_files/tags.yaml.\n",
      "INFO:__main__:Currently 243/3576 (6.8%) papers tagged.\n"
     ]
    }
   ],
   "source": [
    "# Set tables\n",
    "tables = [\"active_inference\", \"bayesian_mechanics\", \"free_energy\", \"friston\", \"karl_friston\", \"predictive_coding\", \"predictive_processing\"]\n",
    "\n",
    "# Load database\n",
    "database = Database()\n",
    "database.load(tables=tables)\n",
    "db = database.db\n",
    "\n",
    "# Load metadata\n",
    "mddb = reload_metadata(db, filter=False)\n"
   ]
  },
  {
   "cell_type": "markdown",
   "metadata": {},
   "source": [
    "## View table"
   ]
  },
  {
   "cell_type": "code",
   "execution_count": 497,
   "metadata": {},
   "outputs": [
    {
     "name": "stderr",
     "output_type": "stream",
     "text": [
      "INFO:__main__:ID: 34804145 \n",
      "\n",
      "INFO:__main__:Title: Learning Intuitive Physics and One-Shot Imitation Using State-Action-Prediction Self-Organizing Maps \n",
      "\n",
      "INFO:__main__:Authors: Stetter M, Lang EW. \n",
      "\n",
      "INFO:__main__:Publication year: 2021 \n",
      "\n"
     ]
    }
   ],
   "source": [
    "# View paper and\n",
    "print_paper(mddb)"
   ]
  },
  {
   "cell_type": "code",
   "execution_count": 498,
   "metadata": {},
   "outputs": [
    {
     "name": "stderr",
     "output_type": "stream",
     "text": [
      "INFO:src.tags:YAML tag file successfully loaded from data/tag_files/tags.yaml.\n",
      "INFO:__main__:Currently 400/3576 (11.19%) papers tagged.\n"
     ]
    }
   ],
   "source": [
    "# Load/reload metadata\n",
    "mddb = reload_metadata(db)"
   ]
  },
  {
   "cell_type": "code",
   "execution_count": null,
   "metadata": {},
   "outputs": [],
   "source": []
  }
 ],
 "metadata": {
  "kernelspec": {
   "display_name": "Python 3.9.7 ('ds_env_1')",
   "language": "python",
   "name": "python3"
  },
  "language_info": {
   "codemirror_mode": {
    "name": "ipython",
    "version": 3
   },
   "file_extension": ".py",
   "mimetype": "text/x-python",
   "name": "python",
   "nbconvert_exporter": "python",
   "pygments_lexer": "ipython3",
   "version": "3.9.13"
  },
  "orig_nbformat": 4,
  "vscode": {
   "interpreter": {
    "hash": "4ef4f69045848ab5f7382a317095b63ca81fc7ad7df0c81f4d0d17d279082c45"
   }
  }
 },
 "nbformat": 4,
 "nbformat_minor": 2
}
