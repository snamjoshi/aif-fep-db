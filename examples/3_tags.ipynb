{
 "cells": [
  {
   "cell_type": "markdown",
   "metadata": {},
   "source": [
    "# Example #3: Creating and adding tags\n",
    "\n",
    "The `Tags` class allows you to load and modify an existing tag file or create a new tag file. These tags, and associated DOIs, are attached to a database (see `2_database.ipynb` for more detail.)"
   ]
  },
  {
   "cell_type": "code",
   "execution_count": 2,
   "metadata": {},
   "outputs": [],
   "source": [
    "import os\n",
    "os.chdir(\"..\")\n",
    "\n",
    "from src.tags import Tags"
   ]
  },
  {
   "cell_type": "markdown",
   "metadata": {},
   "source": [
    "## 3.1 Creating a tag file\n",
    "\n",
    "If you already have a tag file, you can just load it from a specific path. Here we will assume that no tag file exists yet. We will create one first and then load it."
   ]
  },
  {
   "cell_type": "code",
   "execution_count": 7,
   "metadata": {},
   "outputs": [
    {
     "name": "stderr",
     "output_type": "stream",
     "text": [
      "INFO:src.tags:New tag file created.\n"
     ]
    }
   ],
   "source": [
    "# Initialize Tag class\n",
    "tags = Tags()\n",
    "\n",
    "# Create an empty tag file\n",
    "tags.create()"
   ]
  },
  {
   "cell_type": "markdown",
   "metadata": {},
   "source": [
    "Now let's view the current tag file."
   ]
  },
  {
   "cell_type": "code",
   "execution_count": 8,
   "metadata": {},
   "outputs": [
    {
     "data": {
      "text/plain": [
       "{'category': '', 'tag_list': [], 'tagged_papers': []}"
      ]
     },
     "execution_count": 8,
     "metadata": {},
     "output_type": "execute_result"
    }
   ],
   "source": [
    "# View the currently loaded tag file\n",
    "tags.tags"
   ]
  },
  {
   "cell_type": "markdown",
   "metadata": {},
   "source": [
    "Not very inspiring. This is an empty tag file - a dict three two elements. \n",
    "- The *category* functions as a description of the types of tags that are in the file. This is meant to allow users to create their own tag file with specific subsets of papers if they wish to do their own tagging. The category field is just a string so one could put anything here and it would not affect any other operation of the tag file or database.\n",
    "- The `tag_list` key contains a list of possible tags one can add to papers. \n",
    "- The `tagged_papers` is dict with a paper DOI identifier (`doi`) and the associated `tags` (which must correspond to one or more tags in the `tag_list`). \n",
    "\n",
    "The examples below show how to populate the tag file."
   ]
  },
  {
   "cell_type": "markdown",
   "metadata": {},
   "source": [
    "## 3.2 Populating the tag file with new tags\n",
    "\n",
    "When tags are saved they are stored as a YAML file. One can manually update this YAML file or use the helper methods part of the `Tag` class to do it automatically. Let's add some new tags to the tag list and view them. "
   ]
  },
  {
   "cell_type": "code",
   "execution_count": 9,
   "metadata": {},
   "outputs": [
    {
     "name": "stderr",
     "output_type": "stream",
     "text": [
      "INFO:src.tags:Set Bayesian mechanics as the tag category.\n",
      "INFO:src.tags:Added ['information geometry', 'Markov blankets'] to the tag list.\n",
      "INFO:src.tags:Current tags: ['information geometry', 'Markov blankets']\n"
     ]
    },
    {
     "name": "stdout",
     "output_type": "stream",
     "text": [
      "\n",
      "\n",
      "Tag file: \n",
      " {'category': 'Bayesian mechanics', 'tag_list': ['information geometry', 'Markov blankets'], 'tagged_papers': []}\n"
     ]
    }
   ],
   "source": [
    "# Set the tag category and add new tags to the tag list\n",
    "tags.set_tag_list_category(\"Bayesian mechanics\")\n",
    "tags.add_to_tag_list([\"information geometry\", \"Markov blankets\"])\n",
    "\n",
    "# View the current tag list\n",
    "print(\"\\n\")\n",
    "tags.view_tag_list()\n",
    "\n",
    "# View the full tag file\n",
    "print(f\"Tag file: \\n {tags.tags}\")"
   ]
  },
  {
   "cell_type": "markdown",
   "metadata": {},
   "source": [
    "Now we can populate the `tagged_papers` by links tags to a DOI."
   ]
  },
  {
   "cell_type": "code",
   "execution_count": 10,
   "metadata": {},
   "outputs": [],
   "source": [
    "tags_to_add = [\n",
    "    {\"doi\": \"10.1098/rsta.2019.0159\", \"tags\": [\"information geometry\"]},\n",
    "    {\"doi\": \"10.1098/rspa.2021.0518\", \"tags\": [\"Markov blankets\"]},\n",
    "]"
   ]
  },
  {
   "cell_type": "code",
   "execution_count": 11,
   "metadata": {},
   "outputs": [
    {
     "name": "stderr",
     "output_type": "stream",
     "text": [
      "INFO:src.tags:Added tags ['information geometry'] to DOI 10.1098/rsta.2019.0159\n",
      "INFO:src.tags:Added tags ['Markov blankets'] to DOI 10.1098/rspa.2021.0518\n"
     ]
    },
    {
     "data": {
      "text/plain": [
       "{'category': 'Bayesian mechanics',\n",
       " 'tag_list': ['information geometry', 'Markov blankets'],\n",
       " 'tagged_papers': [{'doi': '10.1098/rsta.2019.0159',\n",
       "   'tags': ['information geometry']},\n",
       "  {'doi': '10.1098/rspa.2021.0518', 'tags': ['Markov blankets']}]}"
      ]
     },
     "execution_count": 11,
     "metadata": {},
     "output_type": "execute_result"
    }
   ],
   "source": [
    "tags.link_tags_to_doi(tag_dict_list=tags_to_add)\n",
    "tags.tags"
   ]
  },
  {
   "cell_type": "markdown",
   "metadata": {},
   "source": [
    "We can easily add more tags to any existing entry by providing a new dict."
   ]
  },
  {
   "cell_type": "code",
   "execution_count": 12,
   "metadata": {},
   "outputs": [
    {
     "name": "stderr",
     "output_type": "stream",
     "text": [
      "INFO:src.tags:Checking if any requested tags are not in the tag list...\n",
      "INFO:src.tags:Added ['thermodynamics', 'sparse coupling'] to the tag list.\n",
      "INFO:src.tags:Added tags ['thermodynamics', 'sparse coupling'] to DOI 10.1098/rspa.2021.0518\n"
     ]
    },
    {
     "data": {
      "text/plain": [
       "{'category': 'Bayesian mechanics',\n",
       " 'tag_list': ['information geometry',\n",
       "  'Markov blankets',\n",
       "  'thermodynamics',\n",
       "  'sparse coupling'],\n",
       " 'tagged_papers': [{'doi': '10.1098/rsta.2019.0159',\n",
       "   'tags': ['information geometry']},\n",
       "  {'doi': '10.1098/rspa.2021.0518',\n",
       "   'tags': ['sparse coupling', 'thermodynamics', 'Markov blankets']}]}"
      ]
     },
     "execution_count": 12,
     "metadata": {},
     "output_type": "execute_result"
    }
   ],
   "source": [
    "tags_to_add = [\n",
    "    {\"doi\": \"10.1098/rspa.2021.0518\", \"tags\": [\"thermodynamics\", \"sparse coupling\"]},\n",
    "]\n",
    "\n",
    "tags.link_tags_to_doi(tag_dict_list=tags_to_add)\n",
    "tags.tags"
   ]
  },
  {
   "cell_type": "markdown",
   "metadata": {},
   "source": [
    "When we are done working we can save the tag list."
   ]
  },
  {
   "cell_type": "code",
   "execution_count": 13,
   "metadata": {},
   "outputs": [
    {
     "name": "stderr",
     "output_type": "stream",
     "text": [
      "INFO:src.tags:Empty tag YAML output to /home/sanjeev/Documents/git_repos/aif-fep-db/data/tags/tag_test.yaml.\n"
     ]
    }
   ],
   "source": [
    "tags.save(outpath=\"/home/sanjeev/Documents/git_repos/aif-fep-db/data/tags/tag_test.yaml\")"
   ]
  },
  {
   "cell_type": "markdown",
   "metadata": {},
   "source": [
    "And finally, it is possible to detach the tag list if a new one is to be loaded."
   ]
  },
  {
   "cell_type": "code",
   "execution_count": 14,
   "metadata": {},
   "outputs": [
    {
     "name": "stderr",
     "output_type": "stream",
     "text": [
      "INFO:src.tags:Tag file detached.\n"
     ]
    }
   ],
   "source": [
    "tags.detach()\n",
    "tags.tags"
   ]
  },
  {
   "cell_type": "markdown",
   "metadata": {},
   "source": [
    "...And reload the tag file back in again."
   ]
  },
  {
   "cell_type": "code",
   "execution_count": 15,
   "metadata": {},
   "outputs": [
    {
     "name": "stderr",
     "output_type": "stream",
     "text": [
      "INFO:src.tags:YAML tag file successfully loaded from /home/sanjeev/Documents/git_repos/aif-fep-db/data/tags/tag_test.yaml.\n"
     ]
    },
    {
     "data": {
      "text/plain": [
       "{'category': 'Bayesian mechanics',\n",
       " 'tag_list': ['information geometry',\n",
       "  'Markov blankets',\n",
       "  'thermodynamics',\n",
       "  'sparse coupling'],\n",
       " 'tagged_papers': [{'doi': '10.1098/rsta.2019.0159',\n",
       "   'tags': ['information geometry']},\n",
       "  {'doi': '10.1098/rspa.2021.0518',\n",
       "   'tags': ['sparse coupling', 'thermodynamics', 'Markov blankets']}]}"
      ]
     },
     "execution_count": 15,
     "metadata": {},
     "output_type": "execute_result"
    }
   ],
   "source": [
    "tags.load(\"/home/sanjeev/Documents/git_repos/aif-fep-db/data/tags/tag_test.yaml\")\n",
    "tags.tags"
   ]
  },
  {
   "cell_type": "markdown",
   "metadata": {},
   "source": [
    "Now that the tags list is ready we can attach it to a database of interest."
   ]
  }
 ],
 "metadata": {
  "kernelspec": {
   "display_name": "Python 3.9.7 ('ds_env_1')",
   "language": "python",
   "name": "python3"
  },
  "language_info": {
   "codemirror_mode": {
    "name": "ipython",
    "version": 3
   },
   "file_extension": ".py",
   "mimetype": "text/x-python",
   "name": "python",
   "nbconvert_exporter": "python",
   "pygments_lexer": "ipython3",
   "version": "3.9.7"
  },
  "orig_nbformat": 4,
  "vscode": {
   "interpreter": {
    "hash": "4ef4f69045848ab5f7382a317095b63ca81fc7ad7df0c81f4d0d17d279082c45"
   }
  }
 },
 "nbformat": 4,
 "nbformat_minor": 2
}
