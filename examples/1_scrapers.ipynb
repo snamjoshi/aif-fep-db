{
 "cells": [
  {
   "cell_type": "markdown",
   "metadata": {},
   "source": [
    "# Example #1: Scraping papers from online archives\n",
    "\n",
    "This notebook demonstrates how to use the `Scraper` class to scrape papers from online archives."
   ]
  },
  {
   "cell_type": "code",
   "execution_count": 1,
   "metadata": {},
   "outputs": [],
   "source": [
    "%load_ext autoreload\n",
    "%autoreload 2"
   ]
  },
  {
   "cell_type": "markdown",
   "metadata": {},
   "source": [
    "The warnings you see below are a results of loading the `paperscraper` package and can be safely ignored."
   ]
  },
  {
   "cell_type": "code",
   "execution_count": 2,
   "metadata": {},
   "outputs": [
    {
     "name": "stdout",
     "output_type": "stream",
     "text": [
      "WARNING:paperscraper.load_dumps: No dump found for biorxiv. Skipping entry.\n",
      "WARNING:paperscraper.load_dumps: No dump found for chemrxiv. Skipping entry.\n",
      "WARNING:paperscraper.load_dumps: No dump found for medrxiv. Skipping entry.\n",
      "WARNING:paperscraper.load_dumps: No dumps found for either biorxiv, medrxiv and chemrxiv. Consider using paperscraper.get_dumps.* to fetch the dumps.\n"
     ]
    }
   ],
   "source": [
    "import os\n",
    "os.chdir(\"..\")\n",
    "\n",
    "from src.scraper import Scraper"
   ]
  },
  {
   "cell_type": "markdown",
   "metadata": {},
   "source": [
    "In order to scrape from online resources, you must specify the following:\n",
    "* **Keywords to search for**. Note that this parameter accepts lists of lists. If there are multiple lists of keywords, these can be collected into a list and submitted.\n",
    "* **Start and end dates for search**: The dates must be in YYYY-MM-DD format.\n",
    "* **Archives**: A list of archives to scrape from. Currently, only PubMed and ArXiv are supported but others may be added at a later date.\n",
    "\n",
    "**WARNING**: The scrapers use the API for the relevant archives. Do not run concurrent requests or too many large requests at once. PubMed is relatively fast but ArXiv can be very slow and may take up to 30 minutes or more for a large query. When testing this function out, it is recommended that you use a small date range and a single search term. The following code below should take a minimum of 40 seconds seconds to run to completion.\n",
    "\n",
    "After initializing the `Scraper` class use the `run()` method to run the scraper on the specified terms. If the `return_results` parameter is set to `True` then results will be return from the function as an object (shown below). If the `return_results` is `False` and an `outpath` to export to is available no object will be returned and the results will be exported to CSV. If `return_results` is `False` but no `outpath` is specified, an export path will be generated from a time stamp in `data/tables/`."
   ]
  },
  {
   "cell_type": "code",
   "execution_count": 3,
   "metadata": {},
   "outputs": [
    {
     "name": "stdout",
     "output_type": "stream",
     "text": [
      "INFO:src.scraper:Scraping from PubMed...\n",
      "INFO:src.scraper:Scraping from ArXiv...\n"
     ]
    },
    {
     "name": "stderr",
     "output_type": "stream",
     "text": [
      "Processing all:active inference AND submittedDate:[202501010000 TO 202502010000]: 1117it [00:54, 20.36it/s]\n"
     ]
    },
    {
     "data": {
      "text/html": [
       "<div>\n",
       "<style scoped>\n",
       "    .dataframe tbody tr th:only-of-type {\n",
       "        vertical-align: middle;\n",
       "    }\n",
       "\n",
       "    .dataframe tbody tr th {\n",
       "        vertical-align: top;\n",
       "    }\n",
       "\n",
       "    .dataframe thead th {\n",
       "        text-align: right;\n",
       "    }\n",
       "</style>\n",
       "<table border=\"1\" class=\"dataframe\">\n",
       "  <thead>\n",
       "    <tr style=\"text-align: right;\">\n",
       "      <th></th>\n",
       "      <th>title</th>\n",
       "      <th>authors</th>\n",
       "      <th>where_published</th>\n",
       "      <th>year</th>\n",
       "      <th>doi</th>\n",
       "    </tr>\n",
       "  </thead>\n",
       "  <tbody>\n",
       "    <tr>\n",
       "      <th>0</th>\n",
       "      <td>The role of the intraparietal sulcus in numera...</td>\n",
       "      <td>Erin Duricy, Corrine Durisko, Julie AFiez</td>\n",
       "      <td>Behavioural brain research</td>\n",
       "      <td>2025</td>\n",
       "      <td>10.1016/j.bbr.2025.115453</td>\n",
       "    </tr>\n",
       "    <tr>\n",
       "      <th>1</th>\n",
       "      <td>Premovement activity in the corticospinal trac...</td>\n",
       "      <td>Mehran Emadi Andani, Miriam Braga, Francesco D...</td>\n",
       "      <td>Social cognitive and affective neuroscience</td>\n",
       "      <td>2025</td>\n",
       "      <td>10.1093/scan/nsaf014</td>\n",
       "    </tr>\n",
       "    <tr>\n",
       "      <th>2</th>\n",
       "      <td>APBIO: bioactive profiling of air pollutants t...</td>\n",
       "      <td>Eva Viesi, Ugo Perricone, Patrick Aloy, Rosalb...</td>\n",
       "      <td>Journal of cheminformatics</td>\n",
       "      <td>2025</td>\n",
       "      <td>10.1186/s13321-025-00961-1</td>\n",
       "    </tr>\n",
       "    <tr>\n",
       "      <th>3</th>\n",
       "      <td>A deep learning model for assistive decision-m...</td>\n",
       "      <td>David Martínez-Pascual, José MCatalán, Luís DL...</td>\n",
       "      <td>Journal of neuroengineering and rehabilitation</td>\n",
       "      <td>2025</td>\n",
       "      <td>10.1186/s12984-024-01517-4</td>\n",
       "    </tr>\n",
       "    <tr>\n",
       "      <th>4</th>\n",
       "      <td>Phosphoproteomics delineates hepatocellular ca...</td>\n",
       "      <td>Ze Zhang, Zhenpeng Zhang, Yao Zhang, Yuan Li, ...</td>\n",
       "      <td>Hepatology (Baltimore, Md.)</td>\n",
       "      <td>2025</td>\n",
       "      <td>10.1097/HEP.0000000000001250</td>\n",
       "    </tr>\n",
       "    <tr>\n",
       "      <th>...</th>\n",
       "      <td>...</td>\n",
       "      <td>...</td>\n",
       "      <td>...</td>\n",
       "      <td>...</td>\n",
       "      <td>...</td>\n",
       "    </tr>\n",
       "    <tr>\n",
       "      <th>1112</th>\n",
       "      <td>The ENUBET monitored neutrino beam and its imp...</td>\n",
       "      <td>ENUBET collaboration, L. Halić, F. Acerbi, I. ...</td>\n",
       "      <td>arXiv</td>\n",
       "      <td>2025</td>\n",
       "      <td>10.48550/arXiv.2501.04531</td>\n",
       "    </tr>\n",
       "    <tr>\n",
       "      <th>1113</th>\n",
       "      <td>Measurements of the Temperature and E-mode Pol...</td>\n",
       "      <td>T. -L. Chou, P. A. R. Ade, A. J. Anderson, J. ...</td>\n",
       "      <td>arXiv</td>\n",
       "      <td>2025</td>\n",
       "      <td>10.48550/arXiv.2501.06890</td>\n",
       "    </tr>\n",
       "    <tr>\n",
       "      <th>1114</th>\n",
       "      <td>Discovery of Ancient Globular Cluster Candidat...</td>\n",
       "      <td>Katherine E. Whitaker, Sam E. Cutler, Rupali C...</td>\n",
       "      <td>arXiv</td>\n",
       "      <td>2025</td>\n",
       "      <td>10.48550/arXiv.2501.07627</td>\n",
       "    </tr>\n",
       "    <tr>\n",
       "      <th>1115</th>\n",
       "      <td>FAUST XX. The chemical structure and temperatu...</td>\n",
       "      <td>J. Frediani, M. De Simone, L. Testi, L. Podio,...</td>\n",
       "      <td>arXiv</td>\n",
       "      <td>2025</td>\n",
       "      <td>10.48550/arXiv.2501.19188</td>\n",
       "    </tr>\n",
       "    <tr>\n",
       "      <th>1116</th>\n",
       "      <td>Dynamics of Magnetic Evaporative Beamline Cool...</td>\n",
       "      <td>A. Ashtari Esfahani, S. Bhagvati, S. Böser, M....</td>\n",
       "      <td>arXiv</td>\n",
       "      <td>2025</td>\n",
       "      <td>10.48550/arXiv.2502.00188</td>\n",
       "    </tr>\n",
       "  </tbody>\n",
       "</table>\n",
       "<p>1297 rows × 5 columns</p>\n",
       "</div>"
      ],
      "text/plain": [
       "                                                  title  \\\n",
       "0     The role of the intraparietal sulcus in numera...   \n",
       "1     Premovement activity in the corticospinal trac...   \n",
       "2     APBIO: bioactive profiling of air pollutants t...   \n",
       "3     A deep learning model for assistive decision-m...   \n",
       "4     Phosphoproteomics delineates hepatocellular ca...   \n",
       "...                                                 ...   \n",
       "1112  The ENUBET monitored neutrino beam and its imp...   \n",
       "1113  Measurements of the Temperature and E-mode Pol...   \n",
       "1114  Discovery of Ancient Globular Cluster Candidat...   \n",
       "1115  FAUST XX. The chemical structure and temperatu...   \n",
       "1116  Dynamics of Magnetic Evaporative Beamline Cool...   \n",
       "\n",
       "                                                authors  \\\n",
       "0             Erin Duricy, Corrine Durisko, Julie AFiez   \n",
       "1     Mehran Emadi Andani, Miriam Braga, Francesco D...   \n",
       "2     Eva Viesi, Ugo Perricone, Patrick Aloy, Rosalb...   \n",
       "3     David Martínez-Pascual, José MCatalán, Luís DL...   \n",
       "4     Ze Zhang, Zhenpeng Zhang, Yao Zhang, Yuan Li, ...   \n",
       "...                                                 ...   \n",
       "1112  ENUBET collaboration, L. Halić, F. Acerbi, I. ...   \n",
       "1113  T. -L. Chou, P. A. R. Ade, A. J. Anderson, J. ...   \n",
       "1114  Katherine E. Whitaker, Sam E. Cutler, Rupali C...   \n",
       "1115  J. Frediani, M. De Simone, L. Testi, L. Podio,...   \n",
       "1116  A. Ashtari Esfahani, S. Bhagvati, S. Böser, M....   \n",
       "\n",
       "                                     where_published  year  \\\n",
       "0                         Behavioural brain research  2025   \n",
       "1        Social cognitive and affective neuroscience  2025   \n",
       "2                         Journal of cheminformatics  2025   \n",
       "3     Journal of neuroengineering and rehabilitation  2025   \n",
       "4                        Hepatology (Baltimore, Md.)  2025   \n",
       "...                                              ...   ...   \n",
       "1112                                           arXiv  2025   \n",
       "1113                                           arXiv  2025   \n",
       "1114                                           arXiv  2025   \n",
       "1115                                           arXiv  2025   \n",
       "1116                                           arXiv  2025   \n",
       "\n",
       "                               doi  \n",
       "0        10.1016/j.bbr.2025.115453  \n",
       "1             10.1093/scan/nsaf014  \n",
       "2       10.1186/s13321-025-00961-1  \n",
       "3       10.1186/s12984-024-01517-4  \n",
       "4     10.1097/HEP.0000000000001250  \n",
       "...                            ...  \n",
       "1112     10.48550/arXiv.2501.04531  \n",
       "1113     10.48550/arXiv.2501.06890  \n",
       "1114     10.48550/arXiv.2501.07627  \n",
       "1115     10.48550/arXiv.2501.19188  \n",
       "1116     10.48550/arXiv.2502.00188  \n",
       "\n",
       "[1297 rows x 5 columns]"
      ]
     },
     "execution_count": 3,
     "metadata": {},
     "output_type": "execute_result"
    }
   ],
   "source": [
    "scraper = Scraper(\n",
    "    keywords=[\"active inference\"],   # List[Union[str, List[str]]]\n",
    "    start_date=\"2025-01-01\",         # str in YYYY-MM-DD format\n",
    "    end_date=\"2025-02-01\",           # str in YYYY-MM-DD format\n",
    "    archives=[\"pubmed\", \"arxiv\"],    # List[str]\n",
    ")\n",
    "\n",
    "df = scraper.run(return_results=True)\n",
    "df"
   ]
  },
  {
   "cell_type": "markdown",
   "metadata": {},
   "source": [
    "Since we specified scraping from PubMed and ArXiv, the resulting table has both results concatenated together.\n",
    "\n",
    "Note that the results are far from perfect. There are many papers in here that do not have anything to do with active inference. This can be cleared up later once these papers are loaded into the database."
   ]
  }
 ],
 "metadata": {
  "kernelspec": {
   "display_name": "base",
   "language": "python",
   "name": "python3"
  },
  "language_info": {
   "codemirror_mode": {
    "name": "ipython",
    "version": 3
   },
   "file_extension": ".py",
   "mimetype": "text/x-python",
   "name": "python",
   "nbconvert_exporter": "python",
   "pygments_lexer": "ipython3",
   "version": "3.9.7"
  }
 },
 "nbformat": 4,
 "nbformat_minor": 2
}
