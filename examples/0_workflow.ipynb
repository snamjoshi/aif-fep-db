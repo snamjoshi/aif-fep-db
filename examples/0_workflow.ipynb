{
 "cells": [
  {
   "cell_type": "code",
   "execution_count": null,
   "metadata": {},
   "outputs": [],
   "source": [
    "import os\n",
    "os.chdir(\"..\")\n",
    "\n",
    "from src.db import Database\n",
    "from src.scraper import Scraper\n",
    "from src.tags import Tags"
   ]
  },
  {
   "cell_type": "markdown",
   "metadata": {},
   "source": [
    "# Typical workflow\n",
    "\n",
    "This notebook describes the typical use case and workflow between the three primary classes in this repo: `Scraper`, `Database`, and `Tags`. The particularities of each of these classes is described in more detail in their respective example notebooks.\n",
    "\n",
    "A typical workflow will consist of the following steps:\n",
    "\n",
    "1. Scrape new papers from online archives.\n",
    "2. Load the papers into the database.\n",
    "3. Review the resulting papers and remove the unwanted ones.\n",
    "4. Create a new tag file (or modify an existing tag file) and add tags to papers in the database.\n",
    "5. Attach the tags to the database.\n",
    "6. Save the database.\n",
    "7. Run the app to view the database.\n",
    "\n",
    "In theory, once scraping and tagging papers is up-to-date with the current time, one would periodically repeat the workflow weekly to keep the database up to date. In code, this corresponds to the following steps.\n",
    "\n",
    "**Note**: Running the app assumes that Docker is already installed on your system."
   ]
  },
  {
   "cell_type": "code",
   "execution_count": null,
   "metadata": {},
   "outputs": [],
   "source": [
    "# TODO: Check this workflow properly and see that it works end to end.\n",
    "\n",
    "\"\"\" 0. Set globals \"\"\"\n",
    "TABLE_DIR = \"\"\n",
    "TAG_DIR = \"\"\n",
    "\n",
    "\"\"\" 1. Scrape papers \"\"\"\n",
    "scraper = Scraper(\n",
    "    keywords=[\"active inference\"],   # List[Union[str, List[str]]]\n",
    "    start_date=\"2025-01-01\",         # str in YYYY-MM-DD format\n",
    "    end_date=\"2025-02-01\",           # str in YYYY-MM-DD format\n",
    "    archives=[\"pubmed\", \"arxiv\"],    # List[str]\n",
    ")\n",
    "\n",
    "scraper.run(return_results=False, outpath=TABLE_DIR)\n",
    "\n",
    "\"\"\" 2. Load scraped papers into database \"\"\"\n",
    "database = Database()\n",
    "database.create(table_dir=TABLE_DIR)\n",
    "\n",
    "\"\"\" 3. Remove unwanted papers \"\"\"\n",
    "papers_to_remove = []\n",
    "database.remove(doi_list=papers_to_remove)\n",
    "\n",
    "\"\"\" 4. Create a new tag file \"\"\"\n",
    "tags = Tags()\n",
    "tags.create()\n",
    "\n",
    "# Add tag category and new tags to tag list\n",
    "tags.set_tag_list_category(\"Bayesian mechanics\")\n",
    "tags.add_to_tag_list([\"information geometry\", \"Markov blankets\"])\n",
    "\n",
    "# Add tags by DOI\n",
    "tags_to_add = [\n",
    "    {\"doi\": \"10.1098/rsta.2019.0159\", \"tags\": [\"information geometry\"]},\n",
    "    {\"doi\": \"10.1098/rspa.2021.0518\", \"tags\": [\"Markov blankets\"]},\n",
    "]\n",
    "\n",
    "tags.link_tags_to_doi(tag_dict_list=tags_to_add)\n",
    "\n",
    "# Save tag file\n",
    "tags.save(outpath=TAG_DIR)\n",
    "\n",
    "\"\"\" 5. Attach tags to database \"\"\"\n",
    "database.attach_tags(tag_path=TAG_DIR, overwrite=False)\n",
    "\n",
    "\"\"\" 6. Save database \"\"\"\n",
    "# If no path is provided the database is serialized to data/databases with a timestamp\n",
    "database.save(database_description=\"Active inference papers\")\n",
    "\n",
    "\"\"\"7. Run the app to view the database \"\"\"\n",
    "# Build the container if you have not already: `sh bin/build.sh`\n",
    "# Run the container: `sh bin/run.sh`\n",
    "# View the app in your browser at: http://0.0.0.0:5000\n",
    "\n",
    "# Note that running the container uses the most up to date version of the database by default as shown in `bin/run.sh` and `bin/build_and_run.sh`. If you wish to point the container to a different database then run `sh bin/run.sh data/<database_name.pkl>`."
   ]
  }
 ],
 "metadata": {
  "kernelspec": {
   "display_name": "base",
   "language": "python",
   "name": "python3"
  },
  "language_info": {
   "name": "python",
   "version": "3.9.7"
  }
 },
 "nbformat": 4,
 "nbformat_minor": 2
}
