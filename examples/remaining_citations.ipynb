{
 "cells": [
  {
   "cell_type": "markdown",
   "metadata": {},
   "source": [
    "# Remaining citations list by chapter\n",
    "\n",
    "Splits the remaining citations into chapters/appendices"
   ]
  },
  {
   "cell_type": "code",
   "execution_count": 1,
   "metadata": {},
   "outputs": [],
   "source": [
    "import pandas as pd"
   ]
  },
  {
   "cell_type": "code",
   "execution_count": 52,
   "metadata": {},
   "outputs": [],
   "source": [
    "db = pd.read_csv(\"remaining_citations.csv\")\n",
    "db = db.drop(columns=\"Archive\")\n",
    "db[\"Chapter\"] = db[\"Chapter\"].apply(lambda x: x.strip(\"[]\"))\n",
    "db[\"Chapter\"] = db[\"Chapter\"].apply(lambda x: x.replace(\" \", \"\"))"
   ]
  },
  {
   "cell_type": "code",
   "execution_count": 72,
   "metadata": {},
   "outputs": [],
   "source": [
    "def filter_by_chapter(df, chapter):\n",
    "    # Convert chapter to string to ensure consistent comparison\n",
    "    chapter = str(chapter)\n",
    "    # Create a boolean mask\n",
    "    mask = df['Chapter'].apply(lambda x: chapter in x.split(','))\n",
    "    # Filter the DataFrame\n",
    "    filtered_df = df[mask]\n",
    "    return filtered_df"
   ]
  },
  {
   "cell_type": "code",
   "execution_count": 112,
   "metadata": {},
   "outputs": [
    {
     "name": "stderr",
     "output_type": "stream",
     "text": [
      "/tmp/ipykernel_379986/2440481325.py:6: SettingWithCopyWarning: \n",
      "A value is trying to be set on a copy of a slice from a DataFrame.\n",
      "Try using .loc[row_indexer,col_indexer] = value instead\n",
      "\n",
      "See the caveats in the documentation: https://pandas.pydata.org/pandas-docs/stable/user_guide/indexing.html#returning-a-view-versus-a-copy\n",
      "  chapter_df[\"Chapter\"] = [chapter] * len(chapter_df)\n"
     ]
    }
   ],
   "source": [
    "df_list = []\n",
    "chapters = [\"1\", \"4\", \"5\", \"6\", \"7\", \"8\", \"9\", \"10\", \"11\", \"12\", \"13\", \"14\", \"15\", \"16\", \"A\", \"B\", \"E\"]\n",
    "\n",
    "for chapter in chapters:\n",
    "    chapter_df = filter_by_chapter(db, chapter)\n",
    "    chapter_df[\"Chapter\"] = [chapter] * len(chapter_df)\n",
    "    df_list.append(chapter_df)\n",
    "    \n",
    "final_db = pd.concat(df_list)\n",
    "final_db = final_db.reset_index(drop=True)"
   ]
  },
  {
   "cell_type": "code",
   "execution_count": 113,
   "metadata": {},
   "outputs": [],
   "source": [
    "final_db.to_csv(\"papers_to_add_by_chapter.csv\", index=False)"
   ]
  },
  {
   "cell_type": "code",
   "execution_count": 104,
   "metadata": {},
   "outputs": [
    {
     "data": {
      "text/html": [
       "<div>\n",
       "<style scoped>\n",
       "    .dataframe tbody tr th:only-of-type {\n",
       "        vertical-align: middle;\n",
       "    }\n",
       "\n",
       "    .dataframe tbody tr th {\n",
       "        vertical-align: top;\n",
       "    }\n",
       "\n",
       "    .dataframe thead th {\n",
       "        text-align: right;\n",
       "    }\n",
       "</style>\n",
       "<table border=\"1\" class=\"dataframe\">\n",
       "  <thead>\n",
       "    <tr style=\"text-align: right;\">\n",
       "      <th></th>\n",
       "      <th>Papers</th>\n",
       "      <th>Chapter</th>\n",
       "      <th>Notes</th>\n",
       "    </tr>\n",
       "  </thead>\n",
       "  <tbody>\n",
       "    <tr>\n",
       "      <th>176</th>\n",
       "      <td>A Neural Network Implementation for Free Energ...</td>\n",
       "      <td>4</td>\n",
       "      <td>Comparing AIF and Helmholtz machine</td>\n",
       "    </tr>\n",
       "    <tr>\n",
       "      <th>177</th>\n",
       "      <td>Reverse engineering neural networks to charact...</td>\n",
       "      <td>4</td>\n",
       "      <td>VFE minimization and cost functions.</td>\n",
       "    </tr>\n",
       "    <tr>\n",
       "      <th>178</th>\n",
       "      <td>Surprise: a unified theory and experimental pr...</td>\n",
       "      <td>4</td>\n",
       "      <td>Many ways to interpret surprisal</td>\n",
       "    </tr>\n",
       "    <tr>\n",
       "      <th>179</th>\n",
       "      <td>Variational approximations</td>\n",
       "      <td>4</td>\n",
       "      <td>MacKay 1992</td>\n",
       "    </tr>\n",
       "    <tr>\n",
       "      <th>180</th>\n",
       "      <td>Canonical neural networks perform active infer...</td>\n",
       "      <td>4</td>\n",
       "      <td>Neural substrate</td>\n",
       "    </tr>\n",
       "    <tr>\n",
       "      <th>181</th>\n",
       "      <td>Cultured Cortical Neurons Can Perform Blind So...</td>\n",
       "      <td>4</td>\n",
       "      <td>Neural substrate</td>\n",
       "    </tr>\n",
       "    <tr>\n",
       "      <th>182</th>\n",
       "      <td>Emergence of associative learning in a neuromo...</td>\n",
       "      <td>4</td>\n",
       "      <td>Neural substrate</td>\n",
       "    </tr>\n",
       "    <tr>\n",
       "      <th>183</th>\n",
       "      <td>Experimental validation of the free-energy pri...</td>\n",
       "      <td>4</td>\n",
       "      <td>Neural substrate</td>\n",
       "    </tr>\n",
       "    <tr>\n",
       "      <th>184</th>\n",
       "      <td>In vitro neural networks minimise variational ...</td>\n",
       "      <td>4</td>\n",
       "      <td>Neural substrate</td>\n",
       "    </tr>\n",
       "    <tr>\n",
       "      <th>185</th>\n",
       "      <td>In vitro neurons learn and exhibit sentience w...</td>\n",
       "      <td>4</td>\n",
       "      <td>Neural substrate</td>\n",
       "    </tr>\n",
       "    <tr>\n",
       "      <th>186</th>\n",
       "      <td>Linking Neuromodulated Spike-Timing Dependent ...</td>\n",
       "      <td>4</td>\n",
       "      <td>Neural substrate</td>\n",
       "    </tr>\n",
       "    <tr>\n",
       "      <th>187</th>\n",
       "      <td>Noise Helps Optimization Escape From Saddle Po...</td>\n",
       "      <td>4</td>\n",
       "      <td>Neural substrate</td>\n",
       "    </tr>\n",
       "    <tr>\n",
       "      <th>188</th>\n",
       "      <td>The emergence of synchrony in networks of mutu...</td>\n",
       "      <td>4</td>\n",
       "      <td>Neural substrate</td>\n",
       "    </tr>\n",
       "    <tr>\n",
       "      <th>189</th>\n",
       "      <td>Active inference leads to Bayesian neurophysio...</td>\n",
       "      <td>4</td>\n",
       "      <td>Neural substrate</td>\n",
       "    </tr>\n",
       "  </tbody>\n",
       "</table>\n",
       "</div>"
      ],
      "text/plain": [
       "                                                Papers Chapter  \\\n",
       "176  A Neural Network Implementation for Free Energ...       4   \n",
       "177  Reverse engineering neural networks to charact...       4   \n",
       "178  Surprise: a unified theory and experimental pr...       4   \n",
       "179                         Variational approximations       4   \n",
       "180  Canonical neural networks perform active infer...       4   \n",
       "181  Cultured Cortical Neurons Can Perform Blind So...       4   \n",
       "182  Emergence of associative learning in a neuromo...       4   \n",
       "183  Experimental validation of the free-energy pri...       4   \n",
       "184  In vitro neural networks minimise variational ...       4   \n",
       "185  In vitro neurons learn and exhibit sentience w...       4   \n",
       "186  Linking Neuromodulated Spike-Timing Dependent ...       4   \n",
       "187  Noise Helps Optimization Escape From Saddle Po...       4   \n",
       "188  The emergence of synchrony in networks of mutu...       4   \n",
       "189  Active inference leads to Bayesian neurophysio...       4   \n",
       "\n",
       "                                    Notes  \n",
       "176   Comparing AIF and Helmholtz machine  \n",
       "177  VFE minimization and cost functions.  \n",
       "178      Many ways to interpret surprisal  \n",
       "179                           MacKay 1992  \n",
       "180                      Neural substrate  \n",
       "181                      Neural substrate  \n",
       "182                      Neural substrate  \n",
       "183                      Neural substrate  \n",
       "184                      Neural substrate  \n",
       "185                      Neural substrate  \n",
       "186                      Neural substrate  \n",
       "187                      Neural substrate  \n",
       "188                      Neural substrate  \n",
       "189                      Neural substrate  "
      ]
     },
     "execution_count": 104,
     "metadata": {},
     "output_type": "execute_result"
    }
   ],
   "source": [
    "filter_by_chapter(db, \"4\")"
   ]
  },
  {
   "cell_type": "markdown",
   "metadata": {},
   "source": [
    "## Scratch"
   ]
  },
  {
   "cell_type": "code",
   "execution_count": null,
   "metadata": {},
   "outputs": [],
   "source": [
    "db[db[\"Chapter\"].str.contains(\"1\")]\n",
    "db[\"Chapter\"][0].strip(\"[]\")\n",
    "db.apply(filter_by_chapter, args=(\"1\"))"
   ]
  },
  {
   "cell_type": "code",
   "execution_count": null,
   "metadata": {},
   "outputs": [],
   "source": [
    "def filter_by_tags(mddb, tag_list: list):\n",
    "    \"\"\" Returns papers containing the tagged term \"\"\"\n",
    "    current_tags = mddb[\"tag\"].to_list()\n",
    "    tags_to_filter = []\n",
    "    for idx, tags in enumerate(current_tags):\n",
    "        matches = set(tag_list).intersection(tags)\n",
    "        if len(matches) == 0:\n",
    "            pass\n",
    "        else:\n",
    "            tags_to_filter.append(idx)\n",
    "    \n",
    "    filtered = mddb.iloc[tags_to_filter]\n",
    "    LOGGER.info(f\"{len(filtered)} matches found.\")\n",
    "    return filtered[[\"id\", \"tag\", \"title\"]]"
   ]
  }
 ],
 "metadata": {
  "kernelspec": {
   "display_name": "ds_env_1",
   "language": "python",
   "name": "python3"
  },
  "language_info": {
   "codemirror_mode": {
    "name": "ipython",
    "version": 3
   },
   "file_extension": ".py",
   "mimetype": "text/x-python",
   "name": "python",
   "nbconvert_exporter": "python",
   "pygments_lexer": "ipython3",
   "version": "3.9.7"
  }
 },
 "nbformat": 4,
 "nbformat_minor": 2
}
