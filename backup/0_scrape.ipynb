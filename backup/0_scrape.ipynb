{
 "cells": [
  {
   "cell_type": "code",
   "execution_count": null,
   "metadata": {},
   "outputs": [],
   "source": [
    "%load_ext autoreload\n",
    "%autoreload 2"
   ]
  },
  {
   "cell_type": "code",
   "execution_count": 4,
   "metadata": {},
   "outputs": [],
   "source": [
    "import os\n",
    "os.chdir(\"..\")\n",
    "\n",
    "from src.enums import Scrappers"
   ]
  },
  {
   "cell_type": "code",
   "execution_count": 7,
   "metadata": {},
   "outputs": [
    {
     "name": "stdout",
     "output_type": "stream",
     "text": [
      "Currently implemented scrappers: ['PUBMED']\n"
     ]
    }
   ],
   "source": [
    "print(f\"Currently implemented scrappers: {[item.name for item in Scrappers]}\")\n",
    "scrapper = Scrappers.PUBMED"
   ]
  },
  {
   "cell_type": "code",
   "execution_count": 8,
   "metadata": {},
   "outputs": [
    {
     "name": "stdout",
     "output_type": "stream",
     "text": [
      "WARNING:paperscraper.load_dumps: No dump found for biorxiv. Skipping entry.\n",
      "WARNING:paperscraper.load_dumps: No dump found for chemrxiv. Skipping entry.\n",
      "WARNING:paperscraper.load_dumps: No dump found for medrxiv. Skipping entry.\n",
      "WARNING:paperscraper.load_dumps: No dumps found for either biorxiv, medrxiv and chemrxiv. Consider using paperscraper.get_dumps.* to fetch the dumps.\n"
     ]
    }
   ],
   "source": [
    "from paperscraper.pubmed import get_pubmed_papers"
   ]
  },
  {
   "cell_type": "code",
   "execution_count": 10,
   "metadata": {},
   "outputs": [],
   "source": [
    "papers = get_pubmed_papers([\"Bayesian mechanics\"])"
   ]
  },
  {
   "cell_type": "code",
   "execution_count": 11,
   "metadata": {},
   "outputs": [
    {
     "data": {
      "text/html": [
       "<div>\n",
       "<style scoped>\n",
       "    .dataframe tbody tr th:only-of-type {\n",
       "        vertical-align: middle;\n",
       "    }\n",
       "\n",
       "    .dataframe tbody tr th {\n",
       "        vertical-align: top;\n",
       "    }\n",
       "\n",
       "    .dataframe thead th {\n",
       "        text-align: right;\n",
       "    }\n",
       "</style>\n",
       "<table border=\"1\" class=\"dataframe\">\n",
       "  <thead>\n",
       "    <tr style=\"text-align: right;\">\n",
       "      <th></th>\n",
       "      <th>title</th>\n",
       "      <th>abstract</th>\n",
       "      <th>journal</th>\n",
       "      <th>date</th>\n",
       "      <th>authors</th>\n",
       "      <th>doi</th>\n",
       "    </tr>\n",
       "  </thead>\n",
       "  <tbody>\n",
       "    <tr>\n",
       "      <th>0</th>\n",
       "      <td>Automated Refinement of Property-Specific Pola...</td>\n",
       "      <td>The critical importance of water in sustaining...</td>\n",
       "      <td>Journal of chemical theory and computation</td>\n",
       "      <td>2025-03-20</td>\n",
       "      <td>[YongxianWu, QiangZhu, ZhenHuang, PiotrCieplak...</td>\n",
       "      <td>10.1021/acs.jctc.5c00039</td>\n",
       "    </tr>\n",
       "    <tr>\n",
       "      <th>1</th>\n",
       "      <td>A time-frequency energy segmentation reconstru...</td>\n",
       "      <td>Multimodal ultrasonic guided wave (UGW) signal...</td>\n",
       "      <td>Ultrasonics</td>\n",
       "      <td>2025-03-19</td>\n",
       "      <td>[WeiyangKong, DanLi, LiangZeng, YingLi, Jian Q...</td>\n",
       "      <td>10.1016/j.ultras.2025.107635</td>\n",
       "    </tr>\n",
       "    <tr>\n",
       "      <th>2</th>\n",
       "      <td>Integrated Bayesian and Particle Swarm Approac...</td>\n",
       "      <td>During gas leak detection and risk monitoring ...</td>\n",
       "      <td>Sensors (Basel, Switzerland)</td>\n",
       "      <td>2025-03-17</td>\n",
       "      <td>[ZhewenSui, XiaobingYuan, BaopingCai, FangqiYe...</td>\n",
       "      <td>10.3390/s25051481</td>\n",
       "    </tr>\n",
       "    <tr>\n",
       "      <th>3</th>\n",
       "      <td>Bayesian Windkessel calibration using optimize...</td>\n",
       "      <td>Bayesian boundary condition (BC) calibration a...</td>\n",
       "      <td>Philosophical transactions. Series A, Mathemat...</td>\n",
       "      <td>2025-03-13</td>\n",
       "      <td>[JakobRichter, JonasNitzler, LucaPegolotti, Ka...</td>\n",
       "      <td>10.1098/rsta.2024.0223</td>\n",
       "    </tr>\n",
       "    <tr>\n",
       "      <th>4</th>\n",
       "      <td>Deep-Neural-Networks-Based Data-Driven Methods...</td>\n",
       "      <td>Hydroxyl-terminated polyether (HTPE) propellan...</td>\n",
       "      <td>Polymers</td>\n",
       "      <td>2025-03-13</td>\n",
       "      <td>[RuohanHan, XiaolongFu, BeiQu, LaShi, YuhangLiu]</td>\n",
       "      <td>10.3390/polym17050660</td>\n",
       "    </tr>\n",
       "    <tr>\n",
       "      <th>...</th>\n",
       "      <td>...</td>\n",
       "      <td>...</td>\n",
       "      <td>...</td>\n",
       "      <td>...</td>\n",
       "      <td>...</td>\n",
       "      <td>...</td>\n",
       "    </tr>\n",
       "    <tr>\n",
       "      <th>1362</th>\n",
       "      <td>The concept of probability in safety assessmen...</td>\n",
       "      <td>Safety assessments of technological systems, s...</td>\n",
       "      <td>Science (New York, N.Y.)</td>\n",
       "      <td>1990-12-07</td>\n",
       "      <td>[GApostolakis]</td>\n",
       "      <td>10.1126/science.2255906</td>\n",
       "    </tr>\n",
       "    <tr>\n",
       "      <th>1363</th>\n",
       "      <td>Why we still use our heads instead of formulas...</td>\n",
       "      <td>This review begins with a discussion of Meehl'...</td>\n",
       "      <td>Psychological bulletin</td>\n",
       "      <td>1990-05-01</td>\n",
       "      <td>[BKleinmuntz]</td>\n",
       "      <td>10.1037/0033-2909.107.3.296</td>\n",
       "    </tr>\n",
       "    <tr>\n",
       "      <th>1364</th>\n",
       "      <td>Modelling human tibia structural vibrations.</td>\n",
       "      <td>Mode shapes and natural frequencies of human l...</td>\n",
       "      <td>Journal of biomechanics</td>\n",
       "      <td>1990-01-01</td>\n",
       "      <td>[J JThomsen]</td>\n",
       "      <td>10.1016/0021-9290(90)90013-s</td>\n",
       "    </tr>\n",
       "    <tr>\n",
       "      <th>1365</th>\n",
       "      <td>Stochastic relaxation, gibbs distributions, an...</td>\n",
       "      <td>We make an analogy between images and statisti...</td>\n",
       "      <td>IEEE transactions on pattern analysis and mach...</td>\n",
       "      <td>1984-06-01</td>\n",
       "      <td>[SGeman, DGeman]</td>\n",
       "      <td>10.1109/tpami.1984.4767596</td>\n",
       "    </tr>\n",
       "    <tr>\n",
       "      <th>1366</th>\n",
       "      <td>Estimating the impact of health services in a ...</td>\n",
       "      <td>The advantages of clinical and mechanical comb...</td>\n",
       "      <td>Behavioral science</td>\n",
       "      <td>1976-11-01</td>\n",
       "      <td>[R MBurton, W WDamon, D CDellinger]</td>\n",
       "      <td>10.1002/bs.3830210603</td>\n",
       "    </tr>\n",
       "  </tbody>\n",
       "</table>\n",
       "<p>1367 rows × 6 columns</p>\n",
       "</div>"
      ],
      "text/plain": [
       "                                                  title  ...                           doi\n",
       "0     Automated Refinement of Property-Specific Pola...  ...      10.1021/acs.jctc.5c00039\n",
       "1     A time-frequency energy segmentation reconstru...  ...  10.1016/j.ultras.2025.107635\n",
       "2     Integrated Bayesian and Particle Swarm Approac...  ...             10.3390/s25051481\n",
       "3     Bayesian Windkessel calibration using optimize...  ...        10.1098/rsta.2024.0223\n",
       "4     Deep-Neural-Networks-Based Data-Driven Methods...  ...         10.3390/polym17050660\n",
       "...                                                 ...  ...                           ...\n",
       "1362  The concept of probability in safety assessmen...  ...       10.1126/science.2255906\n",
       "1363  Why we still use our heads instead of formulas...  ...   10.1037/0033-2909.107.3.296\n",
       "1364       Modelling human tibia structural vibrations.  ...  10.1016/0021-9290(90)90013-s\n",
       "1365  Stochastic relaxation, gibbs distributions, an...  ...    10.1109/tpami.1984.4767596\n",
       "1366  Estimating the impact of health services in a ...  ...         10.1002/bs.3830210603\n",
       "\n",
       "[1367 rows x 6 columns]"
      ]
     },
     "execution_count": 11,
     "metadata": {},
     "output_type": "execute_result"
    }
   ],
   "source": [
    "papers"
   ]
  }
 ],
 "metadata": {
  "kernelspec": {
   "display_name": "ds_env_1",
   "language": "python",
   "name": "python3"
  },
  "language_info": {
   "codemirror_mode": {
    "name": "ipython",
    "version": 3
   },
   "file_extension": ".py",
   "mimetype": "text/x-python",
   "name": "python",
   "nbconvert_exporter": "python",
   "pygments_lexer": "ipython3",
   "version": "3.9.13"
  }
 },
 "nbformat": 4,
 "nbformat_minor": 2
}
