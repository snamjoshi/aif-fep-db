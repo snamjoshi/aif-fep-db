{
 "cells": [
  {
   "cell_type": "markdown",
   "metadata": {},
   "source": [
    "# Remaining papers to cite\n",
    "\n",
    "Collecting together remaining papers to look over and add to book if necessary"
   ]
  },
  {
   "cell_type": "code",
   "execution_count": 1,
   "metadata": {},
   "outputs": [],
   "source": [
    "import bibtexparser\n",
    "import logging\n",
    "import numpy as np\n",
    "import re\n",
    "\n",
    "import os\n",
    "os.chdir(\"..\")\n",
    "\n",
    "import pandas as pd\n",
    "\n",
    "from src.db import Database\n",
    "from src.tags import Tags\n",
    "\n",
    "LOGGER = logging.getLogger(__name__)\n",
    "logging.basicConfig(level = logging.INFO)"
   ]
  },
  {
   "cell_type": "markdown",
   "metadata": {},
   "source": [
    "## Pubmed"
   ]
  },
  {
   "cell_type": "code",
   "execution_count": 2,
   "metadata": {},
   "outputs": [],
   "source": [
    "def load_metadata(db, filter=True):\n",
    "    # Initialize Tag class\n",
    "    metadata = Tags()\n",
    "\n",
    "    # Load the tag file and turn into a dataframe\n",
    "    metadata.load(\"data/tag_files/tags.yaml\")\n",
    "    md = pd.DataFrame(metadata.tags[\"tagged_papers\"])\n",
    "    \n",
    "    # Merge with database\n",
    "    mddb = db.merge(md, on=\"id\", how=\"outer\")\n",
    "    \n",
    "    # List current progress out of total.\n",
    "    total_papers = mddb.shape[0]\n",
    "    tagged_papers = sum(~mddb[\"tag\"].isnull())\n",
    "    percent = np.round((tagged_papers/total_papers) * 100, 2)\n",
    "    \n",
    "    LOGGER.info(f\"Currently {tagged_papers}/{total_papers} ({percent}%) papers tagged.\")\n",
    "    LOGGER.info(f\"{total_papers-tagged_papers} papers remaining.\")\n",
    "        \n",
    "    mddb = mddb.reset_index()\n",
    "        \n",
    "    return mddb"
   ]
  },
  {
   "cell_type": "code",
   "execution_count": 3,
   "metadata": {},
   "outputs": [
    {
     "name": "stderr",
     "output_type": "stream",
     "text": [
      "INFO:src.db:Checking tables...\n",
      "INFO:src.db:Loading tables...\n",
      "INFO:src.db:Tables downloaded from PubMed on Thursday, Sept. 14, 2023.\n",
      "INFO:src.tags:YAML tag file successfully loaded from data/tag_files/tags.yaml.\n",
      "INFO:__main__:Currently 3585/3990 (89.85%) papers tagged.\n",
      "INFO:__main__:405 papers remaining.\n"
     ]
    }
   ],
   "source": [
    "# Set tables\n",
    "tables = [\"active_inference\", \"bayesian_mechanics\", \"free_energy\", \"friston\", \"karl_friston\", \"predictive_coding\", \"predictive_processing\"]\n",
    "\n",
    "# Load database\n",
    "database = Database()\n",
    "database.load(tables=tables)\n",
    "db = database.db\n",
    "\n",
    "# Load metadata\n",
    "pubmed_db = load_metadata(db, filter=False)"
   ]
  },
  {
   "cell_type": "code",
   "execution_count": 9,
   "metadata": {},
   "outputs": [],
   "source": [
    "pubmed_db[\"create_date\"] = pd.to_datetime(pubmed_db[\"create_date\"])"
   ]
  },
  {
   "cell_type": "code",
   "execution_count": 13,
   "metadata": {},
   "outputs": [],
   "source": [
    "pubmed_db = pubmed_db[pubmed_db[\"create_date\"] > pd.Timestamp(2023,9,1)]"
   ]
  },
  {
   "cell_type": "markdown",
   "metadata": {},
   "source": [
    "## PsyArXiv, BioArXiv, and ArXiv"
   ]
  },
  {
   "cell_type": "code",
   "execution_count": 4,
   "metadata": {},
   "outputs": [],
   "source": [
    "with open(\"examples/bioarxiv_aif_citations.bib\") as bibtex_file:\n",
    "    bib_database = bibtexparser.load(bibtex_file)\n",
    "    \n",
    "bioarxiv_db = pd.DataFrame(bib_database.entries)"
   ]
  },
  {
   "cell_type": "code",
   "execution_count": 5,
   "metadata": {},
   "outputs": [],
   "source": [
    "arxiv_psyarxiv_db = pd.read_csv(\"data/arxiv_papers.csv\")\n",
    "arxiv_db = arxiv_psyarxiv_db[arxiv_psyarxiv_db[\"Archive\"] == \"ArXiv\"]\n",
    "psyarxiv_db = arxiv_psyarxiv_db[arxiv_psyarxiv_db[\"Archive\"] == \"PsyArXiv\"]"
   ]
  },
  {
   "cell_type": "code",
   "execution_count": 21,
   "metadata": {},
   "outputs": [],
   "source": [
    "pubmed_db[\"title\"].to_csv(\"pubmed_after_sept.csv\", index=False)"
   ]
  },
  {
   "cell_type": "code",
   "execution_count": 23,
   "metadata": {},
   "outputs": [],
   "source": [
    "bioarxiv_db[\"title\"].to_csv(\"bioarxiv_titles.csv\", index=False)"
   ]
  }
 ],
 "metadata": {
  "kernelspec": {
   "display_name": "ds_env_1",
   "language": "python",
   "name": "python3"
  },
  "language_info": {
   "codemirror_mode": {
    "name": "ipython",
    "version": 3
   },
   "file_extension": ".py",
   "mimetype": "text/x-python",
   "name": "python",
   "nbconvert_exporter": "python",
   "pygments_lexer": "ipython3",
   "version": "3.9.7"
  }
 },
 "nbformat": 4,
 "nbformat_minor": 2
}
