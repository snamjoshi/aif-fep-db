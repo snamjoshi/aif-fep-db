{
 "cells": [
  {
   "cell_type": "markdown",
   "metadata": {},
   "source": [
    "# Pubmed ID to YAML\n",
    "\n",
    "Quick script to convert the YAML tag file, currently listed under Pubmed IDs, into the respective DOI."
   ]
  },
  {
   "cell_type": "code",
   "execution_count": 1,
   "metadata": {},
   "outputs": [],
   "source": [
    "%load_ext autoreload\n",
    "%autoreload 2"
   ]
  },
  {
   "cell_type": "code",
   "execution_count": 2,
   "metadata": {},
   "outputs": [],
   "source": [
    "import os\n",
    "import pandas as pd\n",
    "import yaml\n",
    "\n",
    "os.chdir(\"..\")\n",
    "\n",
    "TABLE_DIR = \"/home/sanjeev/Documents/fundamentals_of_aif/backup_db_archive\"\n",
    "TAG_PATH = \"/home/sanjeev/Documents/git_repos/aif-fep-db/data/tags/tags.yaml\""
   ]
  },
  {
   "cell_type": "code",
   "execution_count": 42,
   "metadata": {},
   "outputs": [],
   "source": [
    "# Loop across list of files and load CSV into list of pd.DataFrames\n",
    "table_list = []\n",
    "\n",
    "\n",
    "table_names = os.listdir(TABLE_DIR)\n",
    "table_paths = [TABLE_DIR + \"/\" + table_name for table_name in table_names]\n",
    "\n",
    "for table_path in table_paths:\n",
    "    table = pd.read_csv(table_path, index_col=0)\n",
    "    table_list.append(table)\n",
    "\n",
    "# Drop all columns except PMID and DOI; remove duplicates\n",
    "mapping_list = []  \n",
    "for table in table_list:\n",
    "    table.drop(\n",
    "        [\"Citation\", \"First Author\", \"Create Date\", \"PMCID\", \"NIHMS ID\", \"Title\", \"Authors\", \"Journal/Book\", \"Publication Year\"], \n",
    "        axis=1, inplace=True)\n",
    "    mapping_list.append(table)\n",
    "\n",
    "# Concat DataFrames into a single DataFrame and convert to dict\n",
    "id_mapping = pd.concat(mapping_list).drop_duplicates()\n",
    "id_mapping = id_mapping.to_dict()\n",
    "id_mapping = id_mapping[\"DOI\"]\n",
    "\n",
    "# Import YAML tag file\n",
    "with open(TAG_PATH, \"r\") as file:\n",
    "    tag_file = yaml.safe_load(file)\n",
    "    \n",
    "tagged_papers = tag_file[\"tagged_papers\"]\n",
    "\n",
    "# Apply id mapping\n",
    "for entry in tagged_papers:\n",
    "    if entry[\"id\"] in id_mapping:\n",
    "        entry[\"id\"] = id_mapping[entry[\"id\"]]\n",
    "\n",
    "# Write back to the YAML file\n",
    "with open(TAG_PATH, \"w\") as file:\n",
    "    yaml.dump(tag_file, file, default_flow_style=False)"
   ]
  },
  {
   "cell_type": "code",
   "execution_count": 41,
   "metadata": {},
   "outputs": [],
   "source": [
    "id_list = []\n",
    "for entry in tag_file[\"tagged_papers\"]:\n",
    "    id_list.append(entry[\"id\"])\n",
    "    \n",
    "entry_int_list = []\n",
    "for entry in id_list:\n",
    "    if type(entry) == int:\n",
    "        entry_int_list.append(entry)"
   ]
  },
  {
   "cell_type": "code",
   "execution_count": null,
   "metadata": {},
   "outputs": [],
   "source": [
    "['10.1177/1059712319862774',\n",
    " '10.48550/arXiv.2308.08029',\n",
    " 'no_doi_1',\n",
    " 'no_doi_2',\n",
    " 'no_doi_3',\n",
    " '10.1006/nimg.2002.1153',\n",
    " 'no_doi_4',\n",
    " 'no_doi_5',\n",
    " 'no_doi_6',\n",
    " '10.1016/S0893-6080(00)00066-6',\n",
    " '10.1088/0954-898X/14/4/305',\n",
    " 'no_doi_7',\n",
    " 'no_doi_8',\n",
    " 'no_doi_9',\n",
    " 'no_doi_10',\n",
    " 'no_doi_11',\n",
    " 'no_doi_12',\n",
    " '10.1006/nimg.2002.1156',\n",
    " 'no_doi_13',\n",
    " '10.48550/arXiv.2109.08063',\n",
    " '10.48550/arXiv.2201.13180',\n",
    " 'no_doi_14',\n",
    " 'no_doi_15',\n",
    " '10.48550/arXiv.2305.19654']"
   ]
  },
  {
   "cell_type": "code",
   "execution_count": 18,
   "metadata": {},
   "outputs": [],
   "source": [
    "# Import YAML tag file\n",
    "with open(TAG_PATH, \"r\") as file:\n",
    "    tag_file = yaml.safe_load(file)\n",
    "    \n",
    "tagged_papers = tag_file[\"tagged_papers\"]\n",
    "\n",
    "for entry in tagged_papers:\n",
    "    entry[\"doi\"] = entry.pop(\"id\")\n",
    "    \n",
    "# Write back to the YAML file\n",
    "with open(TAG_PATH, \"w\") as file:\n",
    "    yaml.dump(tag_file, file, default_flow_style=False)"
   ]
  },
  {
   "cell_type": "code",
   "execution_count": null,
   "metadata": {},
   "outputs": [],
   "source": [
    "# import yaml\n",
    "\n",
    "# # Load the mapping dictionary\n",
    "# id_mapping = {\n",
    "#     \"some_integer\": \"doi\"  # Replace with actual mappings\n",
    "# }\n",
    "\n",
    "# # Read YAML file\n",
    "# with open(\"input.yaml\", \"r\") as file:\n",
    "#     data = yaml.safe_load(file)\n",
    "\n",
    "# # Update IDs based on the mapping\n",
    "# for entry in data:\n",
    "#     if str(entry[\"id\"]) in id_mapping:  # Convert to str to match dictionary keys\n",
    "#         entry[\"id\"] = id_mapping[str(entry[\"id\"])]\n",
    "\n",
    "# # Write back to YAML file\n",
    "# with open(\"output.yaml\", \"w\") as file:\n",
    "#     yaml.dump(data, file, default_flow_style=False)\n",
    "\n",
    "# print(\"Updated YAML file saved as output.yaml\")"
   ]
  }
 ],
 "metadata": {
  "kernelspec": {
   "display_name": "base",
   "language": "python",
   "name": "python3"
  },
  "language_info": {
   "codemirror_mode": {
    "name": "ipython",
    "version": 3
   },
   "file_extension": ".py",
   "mimetype": "text/x-python",
   "name": "python",
   "nbconvert_exporter": "python",
   "pygments_lexer": "ipython3",
   "version": "3.9.7"
  }
 },
 "nbformat": 4,
 "nbformat_minor": 2
}
