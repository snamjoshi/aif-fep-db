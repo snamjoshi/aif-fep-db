{
 "cells": [
  {
   "cell_type": "markdown",
   "metadata": {},
   "source": [
    "# Testing file\n",
    "\n",
    "Jupyter notebook just for testing purposes."
   ]
  },
  {
   "cell_type": "code",
   "execution_count": 1,
   "metadata": {},
   "outputs": [],
   "source": [
    "%load_ext autoreload\n",
    "%autoreload 2"
   ]
  },
  {
   "cell_type": "code",
   "execution_count": 2,
   "metadata": {},
   "outputs": [],
   "source": [
    "from db import Database"
   ]
  },
  {
   "cell_type": "code",
   "execution_count": 3,
   "metadata": {},
   "outputs": [
    {
     "name": "stderr",
     "output_type": "stream",
     "text": [
      "INFO:db:Checking tables...\n",
      "INFO:db:Loading tables...\n",
      "INFO:db:Tables downloaded from PubMed on Thursday, Sept. 14, 2023.\n"
     ]
    }
   ],
   "source": [
    "tables = [\"active_inference\", \"bayesian_mechanics\", \n",
    "          \"free_energy\", \"friston\", \"karl_friston\", \n",
    "          \"predictive_coding\", \"predictive_processing\"]\n",
    "\n",
    "database = Database()\n",
    "database.load(tables=tables)"
   ]
  },
  {
   "cell_type": "code",
   "execution_count": 4,
   "metadata": {},
   "outputs": [],
   "source": [
    "import yaml"
   ]
  },
  {
   "cell_type": "code",
   "execution_count": 6,
   "metadata": {},
   "outputs": [],
   "source": [
    "with open('test.yml', 'r') as file:\n",
    "    tags = yaml.safe_load(file)"
   ]
  },
  {
   "cell_type": "code",
   "execution_count": 10,
   "metadata": {},
   "outputs": [],
   "source": [
    "empty_tags_dict = {\n",
    "    \"tag_list\": [],\n",
    "    \"tags\": []\n",
    "}\n",
    "\n",
    "# empty_yaml = yaml.safe_load(empty_tags_dict)\n",
    "name = \"tags1\"\n",
    "\n",
    "# with open(f\"{name}.yml\", 'w') as file:\n",
    "#     yaml.dump(empty_yaml, file)\n",
    "\n",
    "with open(f\"{name}.yml\", \"w\") as outfile:\n",
    "    yaml.dump(empty_tags_dict, outfile, default_flow_style=False)\n"
   ]
  },
  {
   "cell_type": "code",
   "execution_count": 11,
   "metadata": {},
   "outputs": [],
   "source": [
    "from tags import Tags"
   ]
  },
  {
   "cell_type": "code",
   "execution_count": 35,
   "metadata": {},
   "outputs": [],
   "source": [
    "tags = Tags(db=database)\n",
    "# tags.create_empty_tag_file(\"empty_tags.yml\")\n",
    "tags.load(\"empty_tags.yml\")"
   ]
  },
  {
   "cell_type": "code",
   "execution_count": 36,
   "metadata": {},
   "outputs": [],
   "source": [
    "for new_tag in [\"active inference\", \"Bayesian mechanics\"]:\n",
    "    tags.tags[\"tag_list\"].append(new_tag)"
   ]
  },
  {
   "cell_type": "code",
   "execution_count": 37,
   "metadata": {},
   "outputs": [
    {
     "data": {
      "text/plain": [
       "{'tag_list': ['active inference', 'Bayesian mechanics'], 'tags': []}"
      ]
     },
     "execution_count": 37,
     "metadata": {},
     "output_type": "execute_result"
    }
   ],
   "source": [
    "tags.tags"
   ]
  }
 ],
 "metadata": {
  "kernelspec": {
   "display_name": "Python 3.9.7 ('ds_env_1')",
   "language": "python",
   "name": "python3"
  },
  "language_info": {
   "codemirror_mode": {
    "name": "ipython",
    "version": 3
   },
   "file_extension": ".py",
   "mimetype": "text/x-python",
   "name": "python",
   "nbconvert_exporter": "python",
   "pygments_lexer": "ipython3",
   "version": "3.9.13"
  },
  "orig_nbformat": 4,
  "vscode": {
   "interpreter": {
    "hash": "4ef4f69045848ab5f7382a317095b63ca81fc7ad7df0c81f4d0d17d279082c45"
   }
  }
 },
 "nbformat": 4,
 "nbformat_minor": 2
}
