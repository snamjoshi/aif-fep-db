{
 "cells": [
  {
   "cell_type": "markdown",
   "metadata": {},
   "source": [
    "# Testing file\n",
    "\n",
    "Jupyter notebook just for testing purposes."
   ]
  },
  {
   "cell_type": "code",
   "execution_count": 1,
   "metadata": {},
   "outputs": [],
   "source": [
    "%load_ext autoreload\n",
    "%autoreload 2"
   ]
  },
  {
   "cell_type": "code",
   "execution_count": 2,
   "metadata": {},
   "outputs": [],
   "source": [
    "from db import Database"
   ]
  },
  {
   "cell_type": "code",
   "execution_count": 18,
   "metadata": {},
   "outputs": [
    {
     "name": "stderr",
     "output_type": "stream",
     "text": [
      "INFO:db:Tables downloaded from PubMed on Thursday, Sept. 14, 2023.\n"
     ]
    },
    {
     "name": "stdout",
     "output_type": "stream",
     "text": [
      "         PMID                                              Title  \\\n",
      "0    34968557  Active inference leads to Bayesian neurophysio...   \n",
      "1    33343039  Active inference on discrete state-spaces: A s...   \n",
      "2    30120751              Active Inference, Novelty and Neglect   \n",
      "3    27375276                      Active inference and learning   \n",
      "4    34687699  Active inference, selective attention, and the...   \n",
      "..        ...                                                ...   \n",
      "618  36601626  Changes in both top-down and bottom-up effecti...   \n",
      "619  28330464  Spectral-temporal EEG dynamics of speech discr...   \n",
      "620  36382066  A robot or a dumper truck? Facilitating play-b...   \n",
      "621  31678780  The neurophenomenology of early psychosis: An ...   \n",
      "623  35533200  Noradrenergic deficits contribute to apathy in...   \n",
      "\n",
      "                                               Authors  \\\n",
      "0                                           Isomura T.   \n",
      "1    Da Costa L, Parr T, Sajid N, Veselic S, Neacsu...   \n",
      "2                                  Parr T, Friston KJ.   \n",
      "3    Friston K, FitzGerald T, Rigoli F, Schwartenbe...   \n",
      "4          Holmes E, Parr T, Griffiths TD, Friston KJ.   \n",
      "..                                                 ...   \n",
      "618  Thomas GEC, Zeidman P, Sultana T, Zarkali A, R...   \n",
      "619   Gilley PM, Uhler K, Watson K, Yoshinaga-Itano C.   \n",
      "620  Paldam E, Roepstorff A, Steensgaard R, Lundsga...   \n",
      "621  Nelson B, Lavoie S, Gawęda Ł, Li E, Sass LA, K...   \n",
      "623  Hezemans FH, Wolpe N, O'Callaghan C, Ye R, Rua...   \n",
      "\n",
      "                                              Citation First Author  \\\n",
      "0    Neurosci Res. 2022 Feb;175:38-45. doi: 10.1016...    Isomura T   \n",
      "1    J Math Psychol. 2020 Dec;99:102447. doi: 10.10...   Da Costa L   \n",
      "2    Curr Top Behav Neurosci. 2019;41:115-128. doi:...       Parr T   \n",
      "3    Neurosci Biobehav Rev. 2016 Sep;68:862-879. do...    Friston K   \n",
      "4    Neurosci Biobehav Rev. 2021 Dec;131:1288-1304....     Holmes E   \n",
      "..                                                 ...          ...   \n",
      "618  Brain Commun. 2022 Dec 14;5(1):fcac329. doi: 1...   Thomas GEC   \n",
      "619  BMC Neurosci. 2017 Mar 22;18(1):34. doi: 10.11...    Gilley PM   \n",
      "620  Autism Dev Lang Impair. 2022 Mar 21;7:23969415...     Paldam E   \n",
      "621  Conscious Cogn. 2020 Jan;77:102845. doi: 10.10...     Nelson B   \n",
      "623  PLoS Comput Biol. 2022 May 9;18(5):e1010079. d...  Hezemans FH   \n",
      "\n",
      "                Journal/Book  Publication Year Create Date       PMCID  \\\n",
      "0               Neurosci Res              2022  2021/12/30         NaN   \n",
      "1             J Math Psychol              2020  2020/12/21  PMC7732703   \n",
      "2    Curr Top Behav Neurosci              2019  2018/08/19         NaN   \n",
      "3      Neurosci Biobehav Rev              2016  2016/07/05  PMC5167251   \n",
      "4      Neurosci Biobehav Rev              2021  2021/10/23  PMC8643962   \n",
      "..                       ...               ...         ...         ...   \n",
      "618             Brain Commun              2022  2023/01/05  PMC9798302   \n",
      "619             BMC Neurosci              2017  2017/03/24  PMC5439120   \n",
      "620   Autism Dev Lang Impair              2022  2022/11/16  PMC9620708   \n",
      "621           Conscious Cogn              2020  2019/11/04         NaN   \n",
      "623         PLoS Comput Biol              2022  2022/05/09  PMC9119485   \n",
      "\n",
      "         NIHMS ID                              DOI  \n",
      "0             NaN     10.1016/j.neures.2021.12.003  \n",
      "1             NaN        10.1016/j.jmp.2020.102447  \n",
      "2             NaN             10.1007/7854_2018_61  \n",
      "3             NaN  10.1016/j.neubiorev.2016.06.022  \n",
      "4    NIHMS1754010  10.1016/j.neubiorev.2021.09.038  \n",
      "..            ...                              ...  \n",
      "618           NaN       10.1093/braincomms/fcac329  \n",
      "619           NaN        10.1186/s12868-017-0353-4  \n",
      "620           NaN        10.1177/23969415221086714  \n",
      "621           NaN     10.1016/j.concog.2019.102845  \n",
      "623           NaN     10.1371/journal.pcbi.1010079  \n",
      "\n",
      "[3576 rows x 11 columns]\n"
     ]
    }
   ],
   "source": [
    "tables = [\"active_inference\", \"bayesian_mechanics\", \n",
    "          \"free_energy\", \"friston\", \"karl_friston\", \n",
    "          \"predictive_coding\", \"predictive_processing\"]\n",
    "\n",
    "db = Database()\n",
    "db.load(tables=tables)"
   ]
  },
  {
   "cell_type": "code",
   "execution_count": null,
   "metadata": {},
   "outputs": [],
   "source": []
  }
 ],
 "metadata": {
  "kernelspec": {
   "display_name": "ds_env_1",
   "language": "python",
   "name": "python3"
  },
  "language_info": {
   "codemirror_mode": {
    "name": "ipython",
    "version": 3
   },
   "file_extension": ".py",
   "mimetype": "text/x-python",
   "name": "python",
   "nbconvert_exporter": "python",
   "pygments_lexer": "ipython3",
   "version": "3.9.13"
  },
  "orig_nbformat": 4
 },
 "nbformat": 4,
 "nbformat_minor": 2
}
